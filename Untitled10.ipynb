{
  "nbformat": 4,
  "nbformat_minor": 0,
  "metadata": {
    "colab": {
      "provenance": [],
      "authorship_tag": "ABX9TyNApvdN+0dHMKWflJBI1q5a",
      "include_colab_link": true
    },
    "kernelspec": {
      "name": "python3",
      "display_name": "Python 3"
    },
    "language_info": {
      "name": "python"
    }
  },
  "cells": [
    {
      "cell_type": "markdown",
      "metadata": {
        "id": "view-in-github",
        "colab_type": "text"
      },
      "source": [
        "<a href=\"https://colab.research.google.com/github/2403a52029-lab/AI-Assignments/blob/main/Untitled10.ipynb\" target=\"_parent\"><img src=\"https://colab.research.google.com/assets/colab-badge.svg\" alt=\"Open In Colab\"/></a>"
      ]
    },
    {
      "cell_type": "markdown",
      "source": [
        "**Assignment-8.2**\n",
        "\n",
        "**Name:** J.NithinPatil\n",
        "\n",
        "**Roll.No:** 2403A52029\n",
        "\n",
        "**Course:** AI Assisted Coding"
      ],
      "metadata": {
        "id": "ZVYrHVtDuEWA"
      }
    },
    {
      "cell_type": "markdown",
      "source": [
        "**Task Description#1**\n",
        "\n",
        "Use AI to generate test cases for a function is_prime(n) and then implement the\n",
        "function.\n",
        "Requirements:\n",
        "\n",
        "• Only integers > 1 can be prime.\n",
        "\n",
        "•\n",
        "Check edge cases: 0, 1, 2, negative numbers, and large primes"
      ],
      "metadata": {
        "id": "yTaVeKZZsyBI"
      }
    },
    {
      "cell_type": "markdown",
      "source": [
        "**Prompt :** Give me a code that generate a python function whether it is a prime number or not give test cases"
      ],
      "metadata": {
        "id": "C7zQySWimAzu"
      }
    },
    {
      "cell_type": "code",
      "source": [
        "def is_prime(n):\n",
        "    \"\"\"\n",
        "    Checks if a number is prime.\n",
        "\n",
        "    Args:\n",
        "        n: An integer.\n",
        "\n",
        "    Returns:\n",
        "        True if n is prime, False otherwise.\n",
        "    \"\"\"\n",
        "    if n <= 1:\n",
        "        return False\n",
        "    if n <= 3:\n",
        "        return True\n",
        "    if n % 2 == 0 or n % 3 == 0:\n",
        "        return False\n",
        "    i = 5\n",
        "    while i * i <= n:\n",
        "        if n % i == 0 or n % (i + 2) == 0:\n",
        "            return False\n",
        "        i += 6\n",
        "    return True\n",
        "\n",
        "# Test cases\n",
        "test_cases = [\n",
        "    (2, True),\n",
        "    (3, True),\n",
        "    (4, False),\n",
        "    (5, True),\n",
        "    (17, True),\n",
        "    (25, False),\n",
        "    (97, True),\n",
        "    (1, False),\n",
        "    (0, False),\n",
        "    (-10, False)\n",
        "]\n",
        "\n",
        "# Run test cases\n",
        "for num, expected in test_cases:\n",
        "    result = is_prime(num)\n",
        "    assert result == expected, f\"For {num}, expected {expected} but got {result}\"\n",
        "    print(f\"Test case for {num} passed.\")"
      ],
      "metadata": {
        "colab": {
          "base_uri": "https://localhost:8080/"
        },
        "id": "bdaM8BJxrDKh",
        "outputId": "9613732d-f5f5-407d-f0dc-f7d2aa078da3"
      },
      "execution_count": null,
      "outputs": [
        {
          "output_type": "stream",
          "name": "stdout",
          "text": [
            "Test case for 2 passed.\n",
            "Test case for 3 passed.\n",
            "Test case for 4 passed.\n",
            "Test case for 5 passed.\n",
            "Test case for 17 passed.\n",
            "Test case for 25 passed.\n",
            "Test case for 97 passed.\n",
            "Test case for 1 passed.\n",
            "Test case for 0 passed.\n",
            "Test case for -10 passed.\n"
          ]
        }
      ]
    },
    {
      "cell_type": "markdown",
      "source": [
        "**Explaination:**\n",
        "\n",
        "is_prime(n) function:\n",
        "\n",
        "**Handles base cases:**\n",
        "\n",
        "if n <= 1: return False: Numbers less than or equal to 1 are not prime by definition.\n",
        "if n <= 3: return True: The numbers 2 and 3 are prime.\n",
        "\n",
        "**Checks for divisibility by 2 and 3:**\n",
        "\n",
        "if n % 2 == 0 or n % 3 == 0: return False: If n is divisible by 2 or 3, it's not prime (unless n is 2 or 3, which is handled by the previous checks).\n",
        "\n",
        "**Optimized check for other divisors:**\n",
        "\n",
        "i = 5: Starts checking for divisors from 5.\n",
        "while i * i <= n:: This loop continues as long as i * i is less than or equal to n. We only need to check for divisors up to the square root of n because if n has a divisor larger than its square root, it must also have a divisor smaller than its square root.\n",
        "if n % i == 0 or n % (i + 2) == 0: return False: This is an optimization. All prime numbers greater than 3 can be expressed in the form 6k ± 1. This check efficiently tests for divisibility by numbers of this form.\n",
        "i += 6: Increments i by 6 to continue checking numbers of the form 6k ± 1.\n",
        "\n",
        "**Returns True if no divisors found:**\n",
        "\n",
        "return True: If the loop completes without finding any divisors, the number is prime.\n",
        "\n",
        "**Test cases:**\n",
        "\n",
        "test_cases = [...]: A list of tuples, where each tuple contains an input number and the expected boolean result (True if prime, False if not). This list includes various scenarios, including prime numbers, non-prime numbers, and edge cases like 0, 1, and negative numbers.\n",
        "\n",
        "**Running test cases:**\n",
        "\n",
        "The code then iterates through the test_cases list.\n",
        "For each test case, it calls the is_prime function with the input number and compares the returned result with the expected result using an assert statement.\n",
        "If the result doesn't match the expected result, an AssertionError is raised, indicating a failure.\n",
        "If the assertion passes, a message is printed indicating that the test case passed."
      ],
      "metadata": {
        "id": "FR3JT5YFtLFx"
      }
    },
    {
      "cell_type": "markdown",
      "source": [
        "**Observation:** The code successfully implements an optimized primality test function and verifies it with a comprehensive set of test cases, including edge cases.\n",
        "\n"
      ],
      "metadata": {
        "id": "RtcdUqCVubO5"
      }
    },
    {
      "cell_type": "markdown",
      "source": [
        "**Task Description#2**\n",
        "\n",
        "• Ask AI to generate test cases for celsius_to_fahrenheit(c) and fahrenheit_to_celsius(f).\n",
        "**Requirements:**\n",
        "\n",
        "• Validate known pairs: 0°C = 32°F, 100°C = 212°F.\n",
        "\n",
        "• Include decimals and invalid inputs like strings or None"
      ],
      "metadata": {
        "id": "BrxsFjMmuwIj"
      }
    },
    {
      "cell_type": "markdown",
      "source": [
        "**Prompt :** Generate a python function that to convert celsius to fahrenheit and faherenheit to celsius and give test cases like decimals,string,none value"
      ],
      "metadata": {
        "id": "jSoUJLDnvDG0"
      }
    },
    {
      "cell_type": "code",
      "source": [
        "def celsius_to_fahrenheit(celsius):\n",
        "    \"\"\"\n",
        "    Converts Celsius to Fahrenheit.\n",
        "\n",
        "    Args:\n",
        "        celsius: Temperature in Celsius (can be int, float, string, or None).\n",
        "\n",
        "    Returns:\n",
        "        Temperature in Fahrenheit (float), or None if input is invalid.\n",
        "    \"\"\"\n",
        "    try:\n",
        "        # Attempt to convert input to a number\n",
        "        temp_c = float(celsius)\n",
        "        # Apply the conversion formula\n",
        "        fahrenheit = (temp_c * 9/5) + 32\n",
        "        return fahrenheit\n",
        "    except (ValueError, TypeError):\n",
        "        # Handle cases where input is not a valid number (string, None, etc.)\n",
        "        return None\n",
        "\n",
        "def fahrenheit_to_celsius(fahrenheit):\n",
        "    \"\"\"\n",
        "    Converts Fahrenheit to Celsius.\n",
        "\n",
        "    Args:\n",
        "        fahrenheit: Temperature in Fahrenheit (can be int, float, string, or None).\n",
        "\n",
        "    Returns:\n",
        "        Temperature in Celsius (float), or None if input is invalid.\n",
        "    \"\"\"\n",
        "    try:\n",
        "        # Attempt to convert input to a number\n",
        "        temp_f = float(fahrenheit)\n",
        "        # Apply the conversion formula\n",
        "        celsius = (temp_f - 32) * 5/9\n",
        "        return celsius\n",
        "    except (ValueError, TypeError):\n",
        "        # Handle cases where input is not a valid number (string, None, etc.)\n",
        "        return None\n",
        "\n",
        "# Test cases for celsius_to_fahrenheit\n",
        "c_to_f_test_cases = [\n",
        "    (0, 32.0),       # Known pair\n",
        "    (100, 212.0),    # Known pair\n",
        "    (25.5, 77.9),    # Decimal input\n",
        "    (-10, 14.0),     # Negative input\n",
        "    (\"abc\", None),   # Invalid string\n",
        "    (None, None),    # None input\n",
        "    (\"30\", 86.0)     # String number\n",
        "]\n",
        "\n",
        "# Test cases for fahrenheit_to_celsius\n",
        "f_to_c_test_cases = [\n",
        "    (32, 0.0),       # Known pair\n",
        "    (212, 100.0),    # Known pair\n",
        "    (77.9, 25.5),    # Decimal input\n",
        "    (14.0, -10.0),   # Negative output\n",
        "    (\"xyz\", None),   # Invalid string\n",
        "    (None, None),    # None input\n",
        "    (\"86\", 30.0)     # String number\n",
        "]\n",
        "\n",
        "# Run test cases for celsius_to_fahrenheit\n",
        "print(\"Testing celsius_to_fahrenheit:\")\n",
        "for input_c, expected_f in c_to_f_test_cases:\n",
        "    result_f = celsius_to_fahrenheit(input_c)\n",
        "    assert result_f == expected_f, f\"Input: {input_c}, Expected: {expected_f}, Got: {result_f}\"\n",
        "    print(f\"Input: {input_c}, Result: {result_f} (Passed)\")\n",
        "\n",
        "print(\"\\nTesting fahrenheit_to_celsius:\")\n",
        "# Run test cases for fahrenheit_to_celsius\n",
        "for input_f, expected_c in f_to_c_test_cases:\n",
        "    result_c = fahrenheit_to_celsius(input_f)\n",
        "    # Round the results to a few decimal places for comparison\n",
        "    if result_c is not None and expected_c is not None:\n",
        "        assert round(result_c, 2) == round(expected_c, 2), f\"Input: {input_f}, Expected: {expected_c}, Got: {result_c}\"\n",
        "    else:\n",
        "        assert result_c == expected_c, f\"Input: {input_f}, Expected: {expected_c}, Got: {result_c}\"\n",
        "    print(f\"Input: {input_f}, Result: {result_c} (Passed)\")"
      ],
      "metadata": {
        "colab": {
          "base_uri": "https://localhost:8080/"
        },
        "id": "_kfJFXKCvWMc",
        "outputId": "55821452-3516-4d8f-ee46-467a02bd141e"
      },
      "execution_count": null,
      "outputs": [
        {
          "output_type": "stream",
          "name": "stdout",
          "text": [
            "Testing celsius_to_fahrenheit:\n",
            "Input: 0, Result: 32.0 (Passed)\n",
            "Input: 100, Result: 212.0 (Passed)\n",
            "Input: 25.5, Result: 77.9 (Passed)\n",
            "Input: -10, Result: 14.0 (Passed)\n",
            "Input: abc, Result: None (Passed)\n",
            "Input: None, Result: None (Passed)\n",
            "Input: 30, Result: 86.0 (Passed)\n",
            "\n",
            "Testing fahrenheit_to_celsius:\n",
            "Input: 32, Result: 0.0 (Passed)\n",
            "Input: 212, Result: 100.0 (Passed)\n",
            "Input: 77.9, Result: 25.500000000000004 (Passed)\n",
            "Input: 14.0, Result: -10.0 (Passed)\n",
            "Input: xyz, Result: None (Passed)\n",
            "Input: None, Result: None (Passed)\n",
            "Input: 86, Result: 30.0 (Passed)\n"
          ]
        }
      ]
    },
    {
      "cell_type": "markdown",
      "source": [
        "**Explaination :**\n",
        "\n",
        "**celsius_to_fahrenheit(celsius) function:**\n",
        "This function takes a temperature in Celsius as input.\n",
        "It uses a try-except block to handle potential errors if the input celsius cannot be converted to a number (like a string or None).\n",
        "Inside the try block, it attempts to convert the input to a float using float(celsius).\n",
        "It then applies the standard formula to convert Celsius to Fahrenheit: (temp_celsius * 9/5) + 32.\n",
        "It returns the calculated Fahrenheit temperature.\n",
        "If a ValueError or TypeError occurs during the conversion to float, it returns None to indicate an invalid input.\n",
        "\n",
        "**fahrenheit_to_celsius(fahrenheit) function:**\n",
        "\n",
        "This function takes a temperature in Fahrenheit as input.\n",
        "Similar to the first function, it uses a try-except block for error handling.\n",
        "It attempts to convert the input fahrenheit to a float.\n",
        "It applies the formula to convert Fahrenheit to Celsius: (temp_fahrenheit - 32) * 5/9.\n",
        "It returns the calculated Celsius temperature.\n",
        "It returns None if the input is invalid.\n",
        "\n",
        "**Test Cases:**\n",
        "\n",
        "c_to_f_test_cases: A list of tuples to test the celsius_to_fahrenheit function. Each tuple contains a Celsius input and the expected Fahrenheit output. It includes known conversions (0°C, 100°C), a decimal value, a negative value, an invalid string, None, and a string representation of a number.\n",
        "f_to_c_test_cases: A similar list of tuples to test the fahrenheit_to_celsius function, with Fahrenheit inputs and expected Celsius outputs. It also includes known conversions, a decimal value, a value resulting in a negative output, an invalid string, None, and a string representation of a number.\n",
        "\n",
        "**Running Test Cases:**\n",
        "\n",
        "The code then iterates through each list of test cases.\n",
        "For each test case, it calls the corresponding conversion function with the input.\n",
        "It uses an assert statement to compare the function's result with the expected result. For the fahrenheit_to_celsius tests, it rounds the results to two decimal places for comparison to handle potential floating-point inaccuracies.\n",
        "If the result matches the expected output (or the rounded output for Celsius), it prints a \"Passed\" message. If not, it would raise an AssertionError."
      ],
      "metadata": {
        "id": "hwEqVlL7w2VX"
      }
    },
    {
      "cell_type": "markdown",
      "source": [
        "**Observation:** The code provides robust temperature conversion functions that handle various input types and includes comprehensive test cases to ensure they work correctly, including addressing floating-point precision in comparisons."
      ],
      "metadata": {
        "id": "GUHCB8hYxihl"
      }
    },
    {
      "cell_type": "markdown",
      "source": [
        "**Task Description#3**\n",
        "\n",
        "Use AI to write test cases for a function count_words(text) that returns the number of words in a sentence.\n",
        "\n",
        "Requirement:\n",
        "\n",
        "Handle normal text, multiple spaces, punctuation, and empty strings"
      ],
      "metadata": {
        "id": "U83D7E1ExmsJ"
      }
    },
    {
      "cell_type": "markdown",
      "source": [
        "**Prompt :** generate test cases for a function count_words(text) that returns the number of words in a sentence.it should handle normal texts ,multiple spaces and empty strings"
      ],
      "metadata": {
        "id": "1C76LTrLx04Q"
      }
    },
    {
      "cell_type": "code",
      "source": [
        "# Test cases for count_words(text)\n",
        "test_cases = [\n",
        "    (\"Hello world\", 2),  # Normal text\n",
        "    (\"  Leading and trailing spaces  \", 4), # Leading and trailing spaces\n",
        "    (\"Multiple   spaces   here\", 3), # Multiple spaces between words\n",
        "    (\"\", 0), # Empty string\n",
        "    (\" \", 0), # String with only a space\n",
        "    (\"   \", 0), # String with multiple spaces\n",
        "    (\"OneWord\", 1), # Single word\n",
        "    (\"Word with, punctuation.\", 3), # Punctuation\n",
        "    (\"Another test case with! different? punctuation.\", 5) # More punctuation\n",
        "]\n",
        "\n",
        "# Note: The actual implementation of count_words(text) is not provided here.\n",
        "# These are just the test cases.\n",
        "# You would need to define the count_words(text) function separately\n",
        "# and then run these test cases against it using assertions.\n",
        "\n",
        "# Example of how you would run these tests (assuming count_words is defined):\n",
        "# for text, expected_count in test_cases:\n",
        "#     actual_count = count_words(text)\n",
        "#     assert actual_count == expected_count, f\"Input: '{text}', Expected: {expected_count}, Got: {actual_count}\"\n",
        "#     print(f\"Test case passed for: '{text}'\")"
      ],
      "metadata": {
        "id": "_Mj7mIlJyiUB"
      },
      "execution_count": null,
      "outputs": []
    },
    {
      "cell_type": "markdown",
      "source": [
        "test_cases List: It defines a Python list called test_cases. Each element in this list is a tuple.\n",
        "\n",
        "Tuple Structure: Each tuple represents a single test case. The first element of the tuple is the input string (text) that would be passed to the count_words function, and the second element is the expected_count (the number of words that the function should return for that input).\n",
        "\n",
        "Test Case Scenarios: The list includes a variety of test cases to cover different scenarios:\n",
        "\n",
        "(\"Hello world\", 2): A simple case with two words.\n",
        "\n",
        "(\" Leading and trailing spaces \", 4): Checks handling of spaces at the beginning and end of the string.\n",
        "\n",
        "(\"Multiple spaces here\", 3): Tests for multiple spaces between words.\n",
        "\n",
        "(\"\", 0): An empty string.\n",
        "\n",
        "(\" \", 0): A string with only a single space.\n",
        "\n",
        "(\" \", 0): A string with multiple spaces.\n",
        "\n",
        "(\"OneWord\", 1): A single word with no spaces.\n",
        "\n",
        "(\"Word with, punctuation.\", 3): Includes punctuation within or at the end of words.\n",
        "\n",
        "(\"Another test case with! different? punctuation.\", 5): More examples with various punctuation.\n",
        "\n",
        "Note on count_words Implementation: The comments in the cell explicitly state that the count_words(text) function itself is not provided in this cell. The code only defines the test cases.\n",
        "\n",
        "**Example of Running Tests:** The commented-out section shows how these test cases would typically be used. You would loop through the test_cases list, call the count_words function with each input string, and then use an assert statement to check if the actual result from the function matches the expected_count from the test case."
      ],
      "metadata": {
        "id": "eP-P-yBxzb-h"
      }
    },
    {
      "cell_type": "markdown",
      "source": [
        "**Observation:** The code successfully generates a comprehensive set of test cases for a count_words(text) function, covering various scenarios including normal text, leading/trailing spaces, multiple spaces between words, empty strings, and strings with punctuation, which are essential for verifying the robustness of the function's implementation.\n",
        "\n"
      ],
      "metadata": {
        "id": "jMLqJc7Jzcng"
      }
    },
    {
      "cell_type": "markdown",
      "source": [
        "**Task Description#4**\n",
        "\n",
        "• Generate test cases for a BankAccount class with:\n",
        "\n",
        "Methods:\n",
        "\n",
        "\n",
        "deposit(amount),\n",
        "withdraw(amount),\n",
        "check_balance(),\n",
        "\n",
        "Requirements:\n",
        "\n",
        "• Negative deposits/withdrawals should raise an error.\n",
        "\n",
        "• Cannot withdraw more than balance."
      ],
      "metadata": {
        "id": "goleVf_dzdbA"
      }
    },
    {
      "cell_type": "markdown",
      "source": [
        "**Prompt :** generate test cases for a BankAccount class with methods deposit(amount) withdraw(amount) check_balance() ,it should raise an error if there are negative deposits and widrawals ,and it cannot withdraw more than balance"
      ],
      "metadata": {
        "id": "Wege6XdN022x"
      }
    },
    {
      "cell_type": "code",
      "metadata": {
        "colab": {
          "base_uri": "https://localhost:8080/"
        },
        "id": "9b87d9ed",
        "outputId": "1f34f534-a333-4394-e0b8-d5dcb7dbe10d"
      },
      "source": [
        "class BankAccount:\n",
        "    \"\"\"\n",
        "    A simple Bank Account class.\n",
        "    \"\"\"\n",
        "    def __init__(self, initial_balance=0):\n",
        "        if initial_balance < 0:\n",
        "            raise ValueError(\"Initial balance cannot be negative\")\n",
        "        self.balance = initial_balance\n",
        "\n",
        "    def deposit(self, amount):\n",
        "        \"\"\"\n",
        "        Deposits a positive amount into the account.\n",
        "\n",
        "        Args:\n",
        "            amount: The amount to deposit.\n",
        "\n",
        "        Raises:\n",
        "            ValueError: If the deposit amount is negative.\n",
        "        \"\"\"\n",
        "        if amount < 0:\n",
        "            raise ValueError(\"Deposit amount cannot be negative\")\n",
        "        self.balance += amount\n",
        "\n",
        "    def withdraw(self, amount):\n",
        "        \"\"\"\n",
        "        Withdraws a positive amount from the account.\n",
        "\n",
        "        Args:\n",
        "            amount: The amount to withdraw.\n",
        "\n",
        "        Raises:\n",
        "            ValueError: If the withdrawal amount is negative or exceeds the balance.\n",
        "        \"\"\"\n",
        "        if amount < 0:\n",
        "            raise ValueError(\"Withdrawal amount cannot be negative\")\n",
        "        if amount > self.balance:\n",
        "            raise ValueError(\"Insufficient balance\")\n",
        "        self.balance -= amount\n",
        "\n",
        "    def check_balance(self):\n",
        "        \"\"\"\n",
        "        Returns the current account balance.\n",
        "        \"\"\"\n",
        "        return self.balance\n",
        "\n",
        "# Test cases for BankAccount class\n",
        "\n",
        "print(\"Testing BankAccount class...\")\n",
        "\n",
        "# Test Case 1: Initial balance and valid deposit\n",
        "account1 = BankAccount(100)\n",
        "account1.deposit(50)\n",
        "assert account1.check_balance() == 150, f\"Test Case 1 Failed: Expected 150, Got {account1.check_balance()}\"\n",
        "print(\"Test Case 1 Passed\")\n",
        "\n",
        "# Test Case 2: Valid withdrawal\n",
        "account2 = BankAccount(200)\n",
        "account2.withdraw(75)\n",
        "assert account2.check_balance() == 125, f\"Test Case 2 Failed: Expected 125, Got {account2.check_balance()}\"\n",
        "print(\"Test Case 2 Passed\")\n",
        "\n",
        "# Test Case 3: Negative deposit (should raise error)\n",
        "try:\n",
        "    account3 = BankAccount(100)\n",
        "    account3.deposit(-50)\n",
        "    assert False, \"Test Case 3 Failed: Negative deposit should raise an error\"\n",
        "except ValueError as e:\n",
        "    print(f\"Test Case 3 Passed: Caught expected error - {e}\")\n",
        "\n",
        "# Test Case 4: Negative withdrawal (should raise error)\n",
        "try:\n",
        "    account4 = BankAccount(100)\n",
        "    account4.withdraw(-50)\n",
        "    assert False, \"Test Case 4 Failed: Negative withdrawal should raise an error\"\n",
        "except ValueError as e:\n",
        "    print(f\"Test Case 4 Passed: Caught expected error - {e}\")\n",
        "\n",
        "# Test Case 5: Withdraw more than balance (should raise error)\n",
        "try:\n",
        "    account5 = BankAccount(100)\n",
        "    account5.withdraw(150)\n",
        "    assert False, \"Test Case 5 Failed: Withdrawing more than balance should raise an error\"\n",
        "except ValueError as e: # Or a more specific exception if defined in BankAccount\n",
        "     print(f\"Test Case 5 Passed: Caught expected error - {e}\")\n",
        "\n",
        "# Test Case 6: Check balance of a new account\n",
        "account6 = BankAccount(0)\n",
        "assert account6.check_balance() == 0, f\"Test Case 6 Failed: Expected 0, Got {account6.check_balance()}\"\n",
        "print(\"Test Case 6 Passed\")\n",
        "\n",
        "# Test Case 7: Multiple transactions\n",
        "account7 = BankAccount(500)\n",
        "account7.deposit(200)\n",
        "account7.withdraw(100)\n",
        "account7.deposit(50)\n",
        "assert account7.check_balance() == 650, f\"Test Case 7 Failed: Expected 650, Got {account7.check_balance()}\"\n",
        "print(\"Test Case 7 Passed\")\n",
        "\n",
        "# Test Case 8: Initial negative balance (should raise error)\n",
        "try:\n",
        "    account8 = BankAccount(-100)\n",
        "    assert False, \"Test Case 8 Failed: Initial negative balance should raise an error\"\n",
        "except ValueError as e:\n",
        "    print(f\"Test Case 8 Passed: Caught expected error - {e}\")"
      ],
      "execution_count": null,
      "outputs": [
        {
          "output_type": "stream",
          "name": "stdout",
          "text": [
            "Testing BankAccount class...\n",
            "Test Case 1 Passed\n",
            "Test Case 2 Passed\n",
            "Test Case 3 Passed: Caught expected error - Deposit amount cannot be negative\n",
            "Test Case 4 Passed: Caught expected error - Withdrawal amount cannot be negative\n",
            "Test Case 5 Passed: Caught expected error - Insufficient balance\n",
            "Test Case 6 Passed\n",
            "Test Case 7 Passed\n",
            "Test Case 8 Passed: Caught expected error - Initial balance cannot be negative\n"
          ]
        }
      ]
    },
    {
      "cell_type": "markdown",
      "source": [
        "**Explaination :**\n",
        "\n",
        "**BankAccount Class Definition:** The code defines a BankAccount class with an initializer (__init__) to set an initial balance (preventing negative initial balances).\n",
        "\n",
        "**Core Methods:** It includes three core methods: deposit and withdraw for managing funds (with validation to prevent negative amounts and over-withdrawal), and check_balance to view the current balance.\n",
        "\n",
        "**Error Handling:** The deposit, withdraw, and __init__ methods specifically include error handling using ValueError to enforce business rules like no negative transactions or insufficient funds.\n",
        "\n",
        "**Comprehensive Test Cases:**\n",
        "A series of test cases are provided to verify the class's functionality, covering valid operations, invalid inputs (negative amounts), edge cases (zero balance), and scenarios where errors are expected."
      ],
      "metadata": {
        "id": "IzpErTS33mEl"
      }
    },
    {
      "cell_type": "markdown",
      "source": [
        "**Observation :** The code successfully implements a basic BankAccount class with essential deposit, withdrawal, and balance check functionalities, incorporating necessary error handling for invalid operations, and verifies these features with a comprehensive set of test cases.\n",
        "\n"
      ],
      "metadata": {
        "id": "ID_w0QIe4EWT"
      }
    },
    {
      "cell_type": "markdown",
      "source": [
        "**Task Description#5**\n",
        "\n",
        "Generate test cases for is_number_palindrome(num), which checks if an integer reads\n",
        "the same backward.\n",
        "\n",
        "Examples:\n",
        "\n",
        "121 → True\n",
        "\n",
        "123 → False\n",
        "\n",
        "0, negative numbers → handled gracefully"
      ],
      "metadata": {
        "id": "bHBw4f6HrJjA"
      }
    },
    {
      "cell_type": "markdown",
      "source": [
        "**Prompt :** Generate test cases for function is_number_palindrome(num),which checks if an integer reads same backward ,example:121=True,123=False,0,negative numbers should be handled gracefully"
      ],
      "metadata": {
        "id": "zOG67xa-r1SY"
      }
    },
    {
      "cell_type": "code",
      "source": [
        "# Test cases for is_number_palindrome(num)\n",
        "test_cases = [\n",
        "    (121, True),      # Palindrome\n",
        "    (123, False),     # Not a palindrome\n",
        "    (0, True),        # Single digit (considered palindrome)\n",
        "    (1, True),        # Single digit\n",
        "    (-121, False),    # Negative number (not palindrome)\n",
        "    (-10, False),     # Negative number\n",
        "    (10, False),      # Number ending in 0\n",
        "    (10101, True),    # Palindrome with 0s\n",
        "    (98789, True),    # Larger palindrome\n",
        "    (123456, False),  # Larger non-palindrome\n",
        "    (5, True)         # Single digit\n",
        "]\n",
        "\n",
        "# Note: The actual implementation of is_number_palindrome(num) is not provided here.\n",
        "# These are just the test cases.\n",
        "# You would need to define the is_number_palindrome(num) function separately\n",
        "# and then run these test cases against it using assertions.\n",
        "\n",
        "# Example of how you would run these tests (assuming is_number_palindrome is defined):\n",
        "for num, expected in test_cases:\n",
        "    result = is_number_palindrome(num)\n",
        "    assert result == expected, f\"Input: {num}, Expected: {expected}, Got: {result}\"\n",
        "    print(f\"Test case passed for: {num}\")"
      ],
      "metadata": {
        "colab": {
          "base_uri": "https://localhost:8080/"
        },
        "id": "YDI14XuSr1m7",
        "outputId": "88f051c7-bd20-43aa-a2f1-cca113f91952"
      },
      "execution_count": 5,
      "outputs": [
        {
          "output_type": "stream",
          "name": "stdout",
          "text": [
            "Test case passed for: 121\n",
            "Test case passed for: 123\n",
            "Test case passed for: 0\n",
            "Test case passed for: 1\n",
            "Test case passed for: -121\n",
            "Test case passed for: -10\n",
            "Test case passed for: 10\n",
            "Test case passed for: 10101\n",
            "Test case passed for: 98789\n",
            "Test case passed for: 123456\n",
            "Test case passed for: 5\n"
          ]
        }
      ]
    },
    {
      "cell_type": "markdown",
      "source": [
        "**Explaination :**\n",
        "\n",
        "**test_cases List:** This list contains tuples, where each tuple represents a single test. The first element of the tuple is the input number (num) to be passed to the is_number_palindrome function, and the second element is the expected boolean result (True if the number is expected to be a palindrome, False otherwise). The list includes various scenarios like palindromes, non-palindromes, single-digit numbers, negative numbers, and numbers ending in zero.\n",
        "\n",
        "**Running the Tests:** The code then iterates through each (num, expected) tuple in the test_cases list.\n",
        "\n",
        "**Call the Function:** Inside the loop, it calls the is_number_palindrome(num) function with the input number.\n",
        "\n",
        "**Assertion:** It uses an assert statement to compare the result returned by the function with the expected result from the test case. If the result does not equal the expected value, an AssertionError is raised, indicating a test failure.\n",
        "\n",
        "**Print Success Message:** If the assert statement passes (meaning the result matches the expected value), a message is printed indicating that the \"Test case passed\" for that specific input number."
      ],
      "metadata": {
        "id": "RFam2H01tOPY"
      }
    },
    {
      "cell_type": "markdown",
      "source": [
        "**Observation:** The code successfully runs the generated test cases for the is_number_palindrome(num) function. Since the execution output shows \"Test case passed\" for each input, the is_number_palindrome function (defined in cell 5fed43cd) appears to be working correctly according to the defined test cases, handling various scenarios including palindromes, non-palindromes, edge cases like 0 and single digits, and negative numbers."
      ],
      "metadata": {
        "id": "Y8coE8gMtrO-"
      }
    }
  ]
}