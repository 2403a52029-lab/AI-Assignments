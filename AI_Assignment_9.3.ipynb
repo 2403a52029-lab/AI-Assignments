{
  "nbformat": 4,
  "nbformat_minor": 0,
  "metadata": {
    "colab": {
      "provenance": [],
      "authorship_tag": "ABX9TyM50HiZiMM8K3uCINXwTpYg",
      "include_colab_link": true
    },
    "kernelspec": {
      "name": "python3",
      "display_name": "Python 3"
    },
    "language_info": {
      "name": "python"
    }
  },
  "cells": [
    {
      "cell_type": "markdown",
      "metadata": {
        "id": "view-in-github",
        "colab_type": "text"
      },
      "source": [
        "<a href=\"https://colab.research.google.com/github/2403a52029-lab/AI-Assignments/blob/main/AI_Assignment_9.3.ipynb\" target=\"_parent\"><img src=\"https://colab.research.google.com/assets/colab-badge.svg\" alt=\"Open In Colab\"/></a>"
      ]
    },
    {
      "cell_type": "markdown",
      "source": [
        "**Assignment-9.3**\n",
        "\n",
        "**Name:** J.NithinPatil\n",
        "\n",
        "**Roll.No:** 2403A52029\n",
        "\n",
        "**Course:** AI Assisted Coding"
      ],
      "metadata": {
        "id": "3gwAFDUD0f-j"
      }
    },
    {
      "cell_type": "markdown",
      "source": [
        "**Task Description#1 Basic Docstring Generation**\n",
        "\n",
        "• Write python function to return sum of even and odd numbers in the given list.\n",
        "\n",
        "• Incorporate manual docstring in code with Google Style\n",
        "\n",
        "• Use an AI-assisted tool (e.g., Copilot, Cursor AI) to generate a docstring describing the function.\n",
        "\n",
        "• Compare the AI-generated docstring with your manually written one."
      ],
      "metadata": {
        "id": "Xqns1JV3ywBA"
      }
    },
    {
      "cell_type": "markdown",
      "source": [
        "**Prompt 1:** Write a Python function to return the sum of even and odd numbers in a given list."
      ],
      "metadata": {
        "id": "P4B2g1k9yvrd"
      }
    },
    {
      "cell_type": "code",
      "execution_count": 2,
      "metadata": {
        "colab": {
          "base_uri": "https://localhost:8080/"
        },
        "id": "iPjk7fzYyuOA",
        "outputId": "61e3f35c-f606-4d7f-e429-0fd796ba1f24"
      },
      "outputs": [
        {
          "output_type": "stream",
          "name": "stdout",
          "text": [
            "Enter a list of numbers separated by commas: 2,5,3\n",
            "Sum of even numbers: 2\n",
            "Sum of odd numbers: 8\n"
          ]
        }
      ],
      "source": [
        "def sum_even_odd(numbers):\n",
        "  \"\"\"Calculates the sum of even and odd numbers in a list.\n",
        "\n",
        "  Args:\n",
        "    numbers: A list of numbers.\n",
        "\n",
        "  Returns:\n",
        "    A tuple containing the sum of even numbers and the sum of odd numbers.\n",
        "  \"\"\"\n",
        "  even_sum = 0\n",
        "  odd_sum = 0\n",
        "  for number in numbers:\n",
        "    if number % 2 == 0:\n",
        "      even_sum += number\n",
        "    else:\n",
        "      odd_sum += number\n",
        "  return even_sum, odd_sum\n",
        "\n",
        "# Get input from the user\n",
        "user_input = input(\"Enter a list of numbers separated by commas: \")\n",
        "\n",
        "# Convert the input string to a list of integers\n",
        "try:\n",
        "  numbers_list = [int(x.strip()) for x in user_input.split(',')]\n",
        "  # Call the function with the user's list\n",
        "  even_sum, odd_sum = sum_even_odd(numbers_list)\n",
        "\n",
        "  # Print the results\n",
        "  print(f\"Sum of even numbers: {even_sum}\")\n",
        "  print(f\"Sum of odd numbers: {odd_sum}\")\n",
        "\n",
        "except ValueError:\n",
        "  print(\"Invalid input. Please enter a comma-separated list of integers.\")"
      ]
    },
    {
      "cell_type": "markdown",
      "source": [
        "**Prompt 2:** Generate a Google Style docstring for the following function that returns sum of even and odd numbers in a list, list should given by user(dynamic input)."
      ],
      "metadata": {
        "id": "027x6ipj3bxz"
      }
    },
    {
      "cell_type": "code",
      "source": [
        "# Get input from the user\n",
        "user_input = input(\"Enter a list of numbers separated by commas: \")\n",
        "\n",
        "# Convert the input string to a list of integers\n",
        "try:\n",
        "  numbers_list = [int(x.strip()) for x in user_input.split(',')]\n",
        "  # Call the function with the user's list\n",
        "  even_sum, odd_sum = sum_even_odd(numbers_list)\n",
        "\n",
        "  # Print the results\n",
        "  print(f\"Sum of even numbers: {even_sum}\")\n",
        "  print(f\"Sum of odd numbers: {odd_sum}\")\n",
        "\n",
        "except ValueError:\n",
        "  print(\"Invalid input. Please enter a comma-separated list of integers.\")"
      ],
      "metadata": {
        "colab": {
          "base_uri": "https://localhost:8080/"
        },
        "id": "oA6lCMJ923ui",
        "outputId": "a9b3f222-1ebe-438b-e319-80cc40039546"
      },
      "execution_count": 4,
      "outputs": [
        {
          "output_type": "stream",
          "name": "stdout",
          "text": [
            "Enter a list of numbers separated by commas: 2,6,3,1\n",
            "Sum of even numbers: 8\n",
            "Sum of odd numbers: 4\n"
          ]
        }
      ]
    },
    {
      "cell_type": "markdown",
      "source": [
        "**Comparision:**\n",
        "\n",
        "Both cover the same content.\n",
        "\n",
        "AI-generated docstring is shorter, but accurate.\n",
        "\n",
        "Manual one may be more descriptive for beginners.\n"
      ],
      "metadata": {
        "id": "3_v874gbz6q5"
      }
    },
    {
      "cell_type": "markdown",
      "source": [
        "**Explanation:**\n",
        "We create a Python function to calculate the sum of even and odd numbers in a list.\n",
        "\n",
        "We manually add a Google-style docstring and then use an AI tool to generate another docstring.\n",
        "\n",
        "We compare both versions to understand how AI assists in writing function-level documentation."
      ],
      "metadata": {
        "id": "OuERGnX_7o3Q"
      }
    },
    {
      "cell_type": "markdown",
      "source": [
        "**Observation :**\n",
        "\n",
        "Manual docstrings allow more control over description, context, and clarity.\n",
        "\n",
        "AI-generated docstrings are often concise and syntactically correct but may miss some specifics unless the code is very clear.\n",
        "\n",
        "The comparison helped identify AI’s strength in quick generation and its limitations in deeper code understanding.\n",
        "\n",
        "This task enhanced my understanding of standard documentation styles and showed how AI can assist but still requires human review."
      ],
      "metadata": {
        "id": "naY8kmKMz7Xr"
      }
    },
    {
      "cell_type": "markdown",
      "source": [
        "**Task Description#2 Automatic Inline Comments**\n",
        "\n",
        "• Write python program for sru_student class with attributes like name, roll no.,\n",
        "hostel_status and fee_update method and display_details method.\n",
        "\n",
        "• Write comments manually for each line/code block\n",
        "\n",
        "• Ask an AI tool to add inline comments explaining each line/step.\n",
        "\n",
        "• Compare the AI-generated comments with your manually written one"
      ],
      "metadata": {
        "id": "0FEsV5mVz76S"
      }
    },
    {
      "cell_type": "markdown",
      "source": [
        "**Prompt 1:**Prompt1:Generate python program for sru_student class with attributes like name, roll no., hostel_status and fee_update method and display_details method.\n",
        "dont include comments in this code"
      ],
      "metadata": {
        "id": "ToKEAOyM4Ftu"
      }
    },
    {
      "cell_type": "code",
      "source": [
        "class sru_student:\n",
        "    def __init__(self, name, roll_no, hostel_status):\n",
        "        self.name = name\n",
        "        self.roll_no = roll_no\n",
        "        self.hostel_status = hostel_status\n",
        "        self.fee_paid = False\n",
        "\n",
        "    def fee_update(self):\n",
        "        self.fee_paid = True\n",
        "\n",
        "    def display_details(self):\n",
        "        print(\"Name:\", self.name)\n",
        "        print(\"Roll Number:\", self.roll_no)\n",
        "        print(\"Hostel Status:\", self.hostel_status)\n",
        "        print(\"Fee Paid:\", \"Yes\" if self.fee_paid else \"No\")\n",
        "\n",
        "# Example usage:\n",
        "student1 = sru_student(\"John Doe\", \"12345\", \"Yes\")\n",
        "student1.display_details()\n",
        "student1.fee_update()\n",
        "student1.display_details()"
      ],
      "metadata": {
        "colab": {
          "base_uri": "https://localhost:8080/"
        },
        "id": "_Pm7RkaP6PuZ",
        "outputId": "ddb85674-d9dd-4327-c108-c4ef50e47329"
      },
      "execution_count": 12,
      "outputs": [
        {
          "output_type": "stream",
          "name": "stdout",
          "text": [
            "Name: John Doe\n",
            "Roll Number: 12345\n",
            "Hostel Status: Yes\n",
            "Fee Paid: No\n",
            "Name: John Doe\n",
            "Roll Number: 12345\n",
            "Hostel Status: Yes\n",
            "Fee Paid: Yes\n"
          ]
        }
      ]
    },
    {
      "cell_type": "markdown",
      "source": [
        "**Prompt 2:** Prompt2:Generate python program for sru_student class with attributes like name, roll no., hostel_status and fee_update method and display_details method. give comments"
      ],
      "metadata": {
        "id": "PX_LZ7qc4hfg"
      }
    },
    {
      "cell_type": "code",
      "source": [
        "class sru_student: # Define a class named sru_student\n",
        "    def __init__(self, name, roll_no, hostel_status): # Define the constructor with name, roll_no, and hostel_status parameters\n",
        "        self.name = name # Assign the name parameter to the instance's name attribute\n",
        "        self.roll_no = roll_no # Assign the roll_no parameter to the instance's roll_no attribute\n",
        "        self.hostel_status = hostel_status # Assign the hostel_status parameter to the instance's hostel_status attribute\n",
        "        self.fee_paid = False  # Initialize the fee_paid attribute to False\n",
        "\n",
        "    def fee_update(self): # Define a method named fee_update\n",
        "        self.fee_paid = True # Set the fee_paid attribute to True\n",
        "\n",
        "    def display_details(self): # Define a method named display_details\n",
        "        print(\"Name:\", self.name) # Print the student's name\n",
        "        print(\"Roll Number:\", self.roll_no) # Print the student's roll number\n",
        "        print(\"Hostel Status:\", self.hostel_status) # Print the student's hostel status\n",
        "        print(\"Fee Paid:\", \"Yes\" if self.fee_paid else \"No\") # Print the fee payment status (Yes if fee_paid is True, No otherwise)\n",
        "\n",
        "# Example usage:\n",
        "student1 = sru_student(\"Jane Smith\", \"67890\", \"No\") # Create an instance of the sru_student class\n",
        "student1.display_details() # Display the initial details of the student\n",
        "student1.fee_update() # Update the fee status for the student\n",
        "student1.display_details() # Display the updated details of the student"
      ],
      "metadata": {
        "colab": {
          "base_uri": "https://localhost:8080/"
        },
        "id": "7a487hUu5xtb",
        "outputId": "b07637b1-bf9f-485c-bf83-1a678c779eaa"
      },
      "execution_count": 14,
      "outputs": [
        {
          "output_type": "stream",
          "name": "stdout",
          "text": [
            "Name: Jane Smith\n",
            "Roll Number: 67890\n",
            "Hostel Status: No\n",
            "Fee Paid: No\n",
            "Name: Jane Smith\n",
            "Roll Number: 67890\n",
            "Hostel Status: No\n",
            "Fee Paid: Yes\n"
          ]
        }
      ]
    },
    {
      "cell_type": "markdown",
      "source": [
        "**Comparision :**\n",
        "\n",
        "Manual comments are more specific and explain both what and why.\n",
        "\n",
        "AI comments explain what the code does, but may be too generic or repetitive.\n",
        "\n",
        "Manual comments are better for understanding logic, while AI helps with quick summaries."
      ],
      "metadata": {
        "id": "wf_ONbzT04k-"
      }
    },
    {
      "cell_type": "markdown",
      "source": [
        "**Explanation:**\n",
        "\n",
        "We define a sru_student class with attributes and methods.\n",
        "\n",
        "We write manual inline comments for each line, and then use AI to generate automatic inline comments.\n",
        "\n",
        "We compare both to understand how well AI explains the code logic."
      ],
      "metadata": {
        "id": "sNIsbm6T8FiN"
      }
    },
    {
      "cell_type": "markdown",
      "source": [
        "**Observation :**\n",
        "\n",
        "Manually written comments were specific and tailored to the logic and intent of the code.\n",
        "\n",
        "AI-generated inline comments were mostly accurate and explained basic syntax and purpose clearly.\n",
        "\n",
        "However, AI sometimes added redundant or too generic comments.\n",
        "\n",
        "This task helped me evaluate the clarity of my own comments and understand where AI assistance is helpful for beginners or repetitive tasks."
      ],
      "metadata": {
        "id": "nF4yPM1Q08Gb"
      }
    },
    {
      "cell_type": "markdown",
      "source": [
        "**Task Description#3**\n",
        "\n",
        "• Write a Python script with 3–4 functions (e.g., calculator: add, subtract, multiply,\n",
        "divide).\n",
        "\n",
        "• Incorporate manual docstring in code with NumPy Style\n",
        "\n",
        "• Use AI assistance to generate a module-level docstring + individual function\n",
        "docstrings.\n",
        "\n",
        "• Compare the AI-generated docstring with your manually written one"
      ],
      "metadata": {
        "id": "pvIgrYe508pi"
      }
    },
    {
      "cell_type": "markdown",
      "source": [
        "**Prompt :** Generate a python program with 4 functions EX:add,subtract,multiply,divide and provide a module-level docstring +individual function docstrings"
      ],
      "metadata": {
        "id": "vZ_x31QU1M76"
      }
    },
    {
      "cell_type": "code",
      "source": [
        "\"\"\"\n",
        "Calculator Module\n",
        "\n",
        "This module provides basic arithmetic operations: addition, subtraction,\n",
        "multiplication, and division.\n",
        "\n",
        "Functions:\n",
        "    add(a, b): Adds two numbers.\n",
        "    subtract(a, b): Subtracts the second number from the first.\n",
        "    multiply(a, b): Multiplies two numbers.\n",
        "    divide(a, b): Divides the first number by the second.\n",
        "\"\"\"\n",
        "\n",
        "def add(a, b):\n",
        "    \"\"\"\n",
        "    Adds two numbers.\n",
        "\n",
        "    Parameters\n",
        "    ----------\n",
        "    a : float or int\n",
        "        The first number.\n",
        "    b : float or int\n",
        "        The second number.\n",
        "\n",
        "    Returns\n",
        "    -------\n",
        "    float or int\n",
        "        The sum of a and b.\n",
        "    \"\"\"\n",
        "    return a + b\n",
        "\n",
        "def subtract(a, b):\n",
        "    \"\"\"\n",
        "    Subtracts the second number from the first.\n",
        "\n",
        "    Parameters\n",
        "    ----------\n",
        "    a : float or int\n",
        "        The first number.\n",
        "    b : float or int\n",
        "        The second number.\n",
        "\n",
        "    Returns\n",
        "    -------\n",
        "    float or int\n",
        "        The difference between a and b.\n",
        "    \"\"\"\n",
        "    return a - b\n",
        "\n",
        "def multiply(a, b):\n",
        "    \"\"\"\n",
        "    Multiplies two numbers.\n",
        "\n",
        "    Parameters\n",
        "    ----------\n",
        "    a : float or int\n",
        "        The first number.\n",
        "    b : float or int\n",
        "        The second number.\n",
        "\n",
        "    Returns\n",
        "    -------\n",
        "    float or int\n",
        "        The product of a and b.\n",
        "    \"\"\"\n",
        "    return a * b\n",
        "\n",
        "def divide(a, b):\n",
        "    \"\"\"\n",
        "    Divides the first number by the second.\n",
        "\n",
        "    Parameters\n",
        "    ----------\n",
        "    a : float or int\n",
        "        The dividend.\n",
        "    b : float or int\n",
        "        The divisor.\n",
        "\n",
        "    Returns\n",
        "    -------\n",
        "    float or int\n",
        "        The result of the division.\n",
        "\n",
        "    Raises\n",
        "    ------\n",
        "    ZeroDivisionError\n",
        "        If the divisor b is zero.\n",
        "    \"\"\"\n",
        "    if b == 0:\n",
        "        raise ZeroDivisionError(\"Division by zero is not allowed.\")\n",
        "    return a / b\n",
        "\n",
        "# Example usage:\n",
        "print(\"Addition:\", add(5, 3))\n",
        "print(\"Subtraction:\", subtract(10, 4))\n",
        "print(\"Multiplication:\", multiply(2, 6))\n",
        "print(\"Division:\", divide(8, 2))\n",
        "\n",
        "try:\n",
        "    print(\"Division by zero:\", divide(5, 0))\n",
        "except ZeroDivisionError as e:\n",
        "    print(e)"
      ],
      "metadata": {
        "colab": {
          "base_uri": "https://localhost:8080/"
        },
        "id": "GueiYXEQ9zjB",
        "outputId": "a0353de8-0171-4511-acf6-f6a7bac08d66"
      },
      "execution_count": 17,
      "outputs": [
        {
          "output_type": "stream",
          "name": "stdout",
          "text": [
            "Addition: 8\n",
            "Subtraction: 6\n",
            "Multiplication: 12\n",
            "Division: 4.0\n",
            "Division by zero is not allowed.\n"
          ]
        }
      ]
    },
    {
      "cell_type": "markdown",
      "source": [
        "**Explaination :**\n",
        "The code defines a Python module for basic arithmetic operations (add, subtract, multiply, divide) with comprehensive NumPy-style docstrings for each function, including details on parameters, return values, and potential exceptions. Example usage demonstrates how to call these functions and includes error handling for division by zero."
      ],
      "metadata": {
        "id": "ZgsB2eGU1PT0"
      }
    },
    {
      "cell_type": "markdown",
      "source": [
        "**Observation :**\n",
        "The use of NumPy-style docstrings provides clear and structured documentation for each function, making the code easier to understand and use. The example usage effectively demonstrates the functionality and the inclusion of error handling makes the divide function robust. This structure is good practice for creating reusable and well-documented code."
      ],
      "metadata": {
        "id": "cBr26eJZ1XTy"
      }
    }
  ]
}