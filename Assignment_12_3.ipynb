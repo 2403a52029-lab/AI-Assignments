{
  "nbformat": 4,
  "nbformat_minor": 0,
  "metadata": {
    "colab": {
      "provenance": [],
      "authorship_tag": "ABX9TyMUV3hyZLVEmrE8kkgADWtg",
      "include_colab_link": true
    },
    "kernelspec": {
      "name": "python3",
      "display_name": "Python 3"
    },
    "language_info": {
      "name": "python"
    }
  },
  "cells": [
    {
      "cell_type": "markdown",
      "metadata": {
        "id": "view-in-github",
        "colab_type": "text"
      },
      "source": [
        "<a href=\"https://colab.research.google.com/github/2403a52029-lab/AI-Assignments/blob/main/Assignment_12_3.ipynb\" target=\"_parent\"><img src=\"https://colab.research.google.com/assets/colab-badge.svg\" alt=\"Open In Colab\"/></a>"
      ]
    },
    {
      "cell_type": "markdown",
      "source": [
        "**Assignment-12.3**\n",
        "\n",
        "**Name:** J.NithinPatil\n",
        "\n",
        "**Roll.No:** 2403A52029\n",
        "\n",
        "**Course:** AI Assisted Coding"
      ],
      "metadata": {
        "id": "oxqZnIztBJxJ"
      }
    },
    {
      "cell_type": "markdown",
      "source": [
        "**Task Description #1** – Linear Search implementation\n",
        "\n",
        "Write python code for linear_search() function to search a value\n",
        "in a list and extract it’s index."
      ],
      "metadata": {
        "id": "CgIh6r-cBItu"
      }
    },
    {
      "cell_type": "markdown",
      "source": [
        "**Prompt :** generate a python code for linear_search() funcion to search a value in a list and extract its index"
      ],
      "metadata": {
        "id": "SsLpZzd1BIOI"
      }
    },
    {
      "cell_type": "code",
      "execution_count": null,
      "metadata": {
        "colab": {
          "base_uri": "https://localhost:8080/"
        },
        "id": "nHyqV5N53ArD",
        "outputId": "394e23fa-ddf7-4534-951e-e45b0b93e843"
      },
      "outputs": [
        {
          "output_type": "stream",
          "name": "stdout",
          "text": [
            "Value 7 found at index 2\n",
            "Value 10 not found in the list\n"
          ]
        }
      ],
      "source": [
        "def linear_search(arr, target):\n",
        "  \"\"\"\n",
        "  Searches for a target value in a list using linear search.\n",
        "\n",
        "  Args:\n",
        "    arr: The list to search within.\n",
        "    target: The value to search for.\n",
        "\n",
        "  Returns:\n",
        "    The index of the target value if found, otherwise -1.\n",
        "  \"\"\"\n",
        "  for i in range(len(arr)):\n",
        "    if arr[i] == target:\n",
        "      return i\n",
        "  return -1\n",
        "\n",
        "# Example usage:\n",
        "my_list = [4, 2, 7, 1, 9, 5]\n",
        "target_value = 7\n",
        "index = linear_search(my_list, target_value)\n",
        "\n",
        "if index != -1:\n",
        "  print(f\"Value {target_value} found at index {index}\")\n",
        "else:\n",
        "  print(f\"Value {target_value} not found in the list\")\n",
        "\n",
        "target_value = 10\n",
        "index = linear_search(my_list, target_value)\n",
        "\n",
        "if index != -1:\n",
        "  print(f\"Value {target_value} found at index {index}\")\n",
        "else:\n",
        "  print(f\"Value {target_value} not found in the list\")"
      ]
    },
    {
      "cell_type": "markdown",
      "source": [
        "**Explaination :**\n",
        "linear_search(arr, target) function:\n",
        "Takes two arguments: arr (the list to search within) and target (the value to search for).\n",
        "\n",
        "It iterates through the list arr using a for loop and the range(len(arr)) function to get the index i of each element.\n",
        "\n",
        "Inside the loop, it checks if the current element arr[i] is equal to the target.\n",
        "If a match is found, it immediately returns the index i.\n",
        "\n",
        "If the loop finishes without finding the target value, it means the value is not in the list, so the function returns -1.\n",
        "\n",
        "Example usage:\n",
        "A sample list my_list and target_value are defined.\n",
        "The linear_search function is called with these values, and the result (the index) is stored in the index variable.\n",
        "An if statement checks if the returned index is not -1.\n",
        "If it's not -1, it means the value was found, and a message is printed indicating the value and its index.\n",
        "\n",
        "If it is -1, it means the value was not found, and a message is printed accordingly.\n",
        "The example is repeated with a target_value (10) that is not in the list to demonstrate the case where the value is not found.\n"
      ],
      "metadata": {
        "id": "8y4iugYNBKpl"
      }
    },
    {
      "cell_type": "markdown",
      "source": [
        "**Task Description #2** – Sorting Algorithms\n",
        "\n",
        "Task: Ask AI to implement Bubble Sort and check sorted output"
      ],
      "metadata": {
        "id": "s5RVLaizBNjk"
      }
    },
    {
      "cell_type": "markdown",
      "source": [
        "**Prompt :** generate a python program to implement bubble sort and check sorted output"
      ],
      "metadata": {
        "id": "CXHgn7l5BOD3"
      }
    },
    {
      "cell_type": "code",
      "source": [
        "def bubble_sort(arr):\n",
        "  \"\"\"\n",
        "  Sorts a list using the bubble sort algorithm.\n",
        "\n",
        "  Args:\n",
        "    arr: The list to be sorted.\n",
        "\n",
        "  Returns:\n",
        "    The sorted list.\n",
        "  \"\"\"\n",
        "  n = len(arr)\n",
        "  for i in range(n):\n",
        "    # Last i elements are already in place\n",
        "    for j in range(0, n - i - 1):\n",
        "      # Traverse the array from 0 to n-i-1\n",
        "      # Swap if the element found is greater than the next element\n",
        "      if arr[j] > arr[j + 1]:\n",
        "        arr[j], arr[j + 1] = arr[j + 1], arr[j]\n",
        "  return arr\n",
        "\n",
        "# Example usage:\n",
        "my_list = [64, 34, 25, 12, 22, 11, 90]\n",
        "sorted_list = bubble_sort(my_list)\n",
        "\n",
        "print(\"Original list:\", [64, 34, 25, 12, 22, 11, 90])\n",
        "print(\"Sorted list:\", sorted_list)"
      ],
      "metadata": {
        "colab": {
          "base_uri": "https://localhost:8080/"
        },
        "id": "Pa8a8PpQBCpL",
        "outputId": "e52a7459-6541-4bac-d4d9-ba4ec58c00b6"
      },
      "execution_count": null,
      "outputs": [
        {
          "output_type": "stream",
          "name": "stdout",
          "text": [
            "Original list: [64, 34, 25, 12, 22, 11, 90]\n",
            "Sorted list: [11, 12, 22, 25, 34, 64, 90]\n"
          ]
        }
      ]
    },
    {
      "cell_type": "markdown",
      "source": [
        "**Explaination :**\n",
        "\n",
        "bubble_sort(arr) function:\n",
        "Takes a list arr as input.\n",
        "Gets the length of the list n.\n",
        "\n",
        "The outer loop (for i in range(n):) iterates through the list. After each pass of the outer loop, the largest unsorted element \"bubbles up\" to its correct position at the end of the unsorted portion of the list.\n",
        "\n",
        "The inner loop (for j in range(0, n - i - 1):) traverses the unsorted portion of the list.\n",
        "\n",
        "Inside the inner loop, it compares adjacent elements (arr[j] and arr[j + 1]).\n",
        "\n",
        "If the element at index j is greater than the element at index j + 1, it swaps them (arr[j], arr[j + 1] = arr[j + 1], arr[j]).\n",
        "\n",
        "After the loops complete, the function returns the sorted list.\n",
        "\n",
        "Example usage:\n",
        "A sample list my_list is defined.\n",
        "\n",
        "The bubble_sort function is called with my_list, and the sorted result is stored in sorted_list.\n",
        "\n",
        "Finally, it prints the original and sorted lists to show the result of the sorting process."
      ],
      "metadata": {
        "id": "N40nFOOUBbCU"
      }
    },
    {
      "cell_type": "markdown",
      "source": [
        "**Task Description #3** – Optimization\n",
        "\n",
        "Task: Write python code to solve below case study using linear\n",
        "optimization\n"
      ],
      "metadata": {
        "id": "m2l4tBr9BbuO"
      }
    },
    {
      "cell_type": "markdown",
      "source": [
        "**Prompt :** generate a python program to solve the below case study using linear optimization:\n",
        "Consider a chocolate manufacturing company that produces only two types of chocolate i.e. A and B. Both the chocolates require Milk and Choco only. Venkataramana\n",
        "To manufacture each unit of A and B, the following quantities ar required:\n",
        "Each unit of A requires 1 unit of Milk and 3 units of Choco\n",
        "Each unit of B requires 1 unit of Milk and 2 units of Choco\n",
        " The company kitchen has a total of 5 units of Milk and 12 units of Choco. On each sale, the company makes a profit of Rs 6 per unit A sold and Rs 5 per unit B sold.\n",
        "Now, the company wishes to maximize its profit. How many units of A and B shoud it produce respectively?"
      ],
      "metadata": {
        "id": "UtCcrV9DBayQ"
      }
    },
    {
      "cell_type": "code",
      "source": [
        "!pip install pulp\n",
        "\n",
        "import pulp\n",
        "\n",
        "# Create a LP problem\n",
        "prob = pulp.LpProblem(\"Chocolate Profit Maximization\", pulp.LpMaximize)\n",
        "\n",
        "# Define decision variables\n",
        "# x is the number of units of chocolate A to produce\n",
        "# y is the number of units of chocolate B to produce\n",
        "x = pulp.LpVariable(\"A\", 0, None, cat='Integer')\n",
        "y = pulp.LpVariable(\"B\", 0, None, cat='Integer')\n",
        "\n",
        "# Define the objective function (maximize profit)\n",
        "prob += 6 * x + 5 * y, \"Total Profit\"\n",
        "\n",
        "# Define the constraints\n",
        "# Milk constraint: 1 unit of milk for A + 1 unit of milk for B <= 5 total units of milk\n",
        "prob += 1 * x + 1 * y <= 5, \"Milk Constraint\"\n",
        "# Choco constraint: 3 units of choco for A + 2 units of choco for B <= 12 total units of choco\n",
        "prob += 3 * x + 2 * y <= 12, \"Choco Constraint\"\n",
        "\n",
        "# Solve the problem\n",
        "prob.solve()\n",
        "\n",
        "# Print the results\n",
        "print(\"Status:\", pulp.LpStatus[prob.status])\n",
        "print(\"Optimal number of units of A:\", x.varValue)\n",
        "print(\"Optimal number of units of B:\", y.varValue)\n",
        "print(\"Maximum profit:\", pulp.value(prob.objective))"
      ],
      "metadata": {
        "colab": {
          "base_uri": "https://localhost:8080/"
        },
        "id": "QyYTVNVHBdIZ",
        "outputId": "02eba7e6-4a4d-4ba5-f9d4-2f26a24d8cb0"
      },
      "execution_count": null,
      "outputs": [
        {
          "output_type": "stream",
          "name": "stdout",
          "text": [
            "Requirement already satisfied: pulp in /usr/local/lib/python3.12/dist-packages (3.3.0)\n",
            "Status: Optimal\n",
            "Optimal number of units of A: 2.0\n",
            "Optimal number of units of B: 3.0\n",
            "Maximum profit: 27.0\n"
          ]
        },
        {
          "output_type": "stream",
          "name": "stderr",
          "text": [
            "/usr/local/lib/python3.12/dist-packages/pulp/pulp.py:1489: UserWarning: Spaces are not permitted in the name. Converted to '_'\n",
            "  warnings.warn(\"Spaces are not permitted in the name. Converted to '_'\")\n"
          ]
        }
      ]
    },
    {
      "cell_type": "markdown",
      "source": [
        "**Explaination :**\n",
        "\n",
        "bubble_sort(arr) function:\n",
        "\n",
        "Takes a list arr as input.\n",
        "Gets the length of the list n.\n",
        "\n",
        "The outer loop (for i in range(n):) iterates through the list. After each pass of the outer loop, the largest unsorted element \"bubbles up\" to its correct position at the end of the unsorted portion of the list.\n",
        "\n",
        "The inner loop (for j in range(0, n - i - 1):) traverses the unsorted portion of the list.\n",
        "\n",
        "Inside the inner loop, it compares adjacent elements (arr[j] and arr[j + 1]).\n",
        "\n",
        "If the element at index j is greater than the element at index j + 1, it swaps them (arr[j], arr[j + 1] = arr[j + 1], arr[j]).\n",
        "\n",
        "After the loops complete, the function returns the sorted list.\n",
        "\n",
        "Example usage:\n",
        "A sample list my_list is defined.\n",
        "The bubble_sort function is called with my_list, and the sorted result is stored in sorted_list.\n",
        "\n",
        "Finally, it prints the original and sorted lists to show the result of the sorting process.\n",
        "\n",
        "Please explain this code:\n",
        "\n",
        "Absolutely! This code uses the pulp library to solve a linear programming problem to maximize the profit of a chocolate manufacturing company.\n",
        "\n",
        "Here's a breakdown:\n",
        "\n",
        "!pip install pulp: This line installs the pulp library, which is a Python library for linear programming.\n",
        "\n",
        "import pulp: This line imports the installed library.\n",
        "\n",
        "prob = pulp.LpProblem(\"Chocolate Profit Maximization\", pulp.LpMaximize): This creates a linear programming problem named \"Chocolate Profit Maximization\" with the objective of maximization.\n",
        "x = pulp.LpVariable(\"A\", 0, None, cat='Integer') and y = pulp.LpVariable(\"B\", 0, None, cat='Integer'): These lines define the decision variables.\n",
        "x represents the number of units of chocolate A to produce.\n",
        "y represents the number of units of chocolate B to produce.\n",
        "0 indicates the lower bound (cannot produce negative units).\n",
        "None indicates no upper bound.\n",
        "cat='Integer' specifies that the variables must be integers (you can't produce fractions of chocolates).\n",
        "\n",
        "prob += 6 * x + 5 * y, \"Total Profit\": This defines the objective function. The company wants to maximize the total profit, which is calculated as 6 times the number of units of A sold plus 5 times the number of units of B sold.\n",
        "prob += 1 * x + 1 * y <= 5, \"Milk Constraint\": This defines the first constraint, related to the availability of milk. Each unit of A requires 1 unit of milk, and each unit of B requires 1 unit of milk. The total milk used cannot exceed the available 5 units.\n",
        "\n",
        "prob += 3 * x + 2 * y <= 12, \"Choco Constraint\": This defines the second constraint, related to the availability of chocolate. Each unit of A requires 3 units of chocolate, and each unit of B requires 2 units of chocolate. The total chocolate used cannot exceed the available 12 units.\n",
        "\n",
        "prob.solve(): This line solves the linear programming problem.\n",
        "\n",
        "print(\"Status:\", pulp.LpStatus[prob.status]): This prints the status of the solution (e.g., Optimal, Infeasible).\n",
        "\n",
        "print(\"Optimal number of units of A:\", x.varValue) and print(\"Optimal number of units of B:\", y.varValue): These lines print the optimal values for the decision variables x and y, which represent the number of units of A and B to produce to maximize profit.\n",
        "\n",
        "print(\"Maximum profit:\", pulp.value(prob.objective)): This prints the maximum profit that can be achieved based on the optimal production quantities."
      ],
      "metadata": {
        "id": "EvH_QPG5BdsX"
      }
    },
    {
      "cell_type": "markdown",
      "source": [
        "**Task Description #4** – Gradient Descent Optimization\n",
        "\n",
        "Task: Write python code to find value of x at which the function\n",
        "f(x)=2X3+4x+5 will be minimum"
      ],
      "metadata": {
        "id": "4llA0dqqB1qP"
      }
    },
    {
      "cell_type": "markdown",
      "source": [
        "**Prompt :** generate a python code to find value of x at which the function f(x)=2X3+4X+5 will be minimum"
      ],
      "metadata": {
        "id": "5_HXAxAJB2d4"
      }
    },
    {
      "cell_type": "code",
      "source": [
        "import sympy\n",
        "\n",
        "# Define the variable\n",
        "x = sympy.Symbol('x')\n",
        "\n",
        "# Define the function\n",
        "f = 2*x**3 + 4*x + 5\n",
        "\n",
        "# Calculate the derivative\n",
        "f_prime = sympy.diff(f, x)\n",
        "\n",
        "print(f\"The derivative of the function is: {f_prime}\")\n",
        "\n",
        "# Find the roots of the derivative\n",
        "critical_points = sympy.solve(f_prime, x)\n",
        "\n",
        "print(f\"The critical points are: {critical_points}\")\n",
        "\n",
        "# Analyze the critical points to find the minimum.\n",
        "# For a cubic function like this, the derivative is a quadratic.\n",
        "# The roots of the derivative are potential local minima or maxima.\n",
        "# We can use the second derivative test or analyze the behavior of the function.\n",
        "# In this case, the derivative is 6x^2 + 4.\n",
        "# Since x^2 is always non-negative, 6x^2 + 4 is always positive.\n",
        "# A positive first derivative means the function is always increasing.\n",
        "# Therefore, this function does not have a local minimum (or maximum).\n",
        "# However, if we were looking for a minimum within a specific interval,\n",
        "# we would evaluate the function at the critical points within the interval\n",
        "# and at the endpoints of the interval to find the minimum value.\n",
        "\n",
        "# For this specific function, as x approaches negative infinity, f(x) approaches negative infinity,\n",
        "# and as x approaches positive infinity, f(x) approaches positive infinity.\n",
        "# Thus, there is no global minimum."
      ],
      "metadata": {
        "colab": {
          "base_uri": "https://localhost:8080/"
        },
        "id": "hCWw6LJFB3L7",
        "outputId": "37016935-8121-4e84-9cd9-d9a7339a8edc"
      },
      "execution_count": null,
      "outputs": [
        {
          "output_type": "stream",
          "name": "stdout",
          "text": [
            "The derivative of the function is: 6*x**2 + 4\n",
            "The critical points are: [-sqrt(6)*I/3, sqrt(6)*I/3]\n"
          ]
        }
      ]
    },
    {
      "cell_type": "markdown",
      "source": [
        "**Explaination :**\n",
        "\n",
        "import sympy: This line imports the sympy library, which is a Python library for symbolic mathematics.\n",
        "\n",
        "x = sympy.Symbol('x'): This defines x as a symbolic variable, which allows sympy to perform mathematical operations on it without assigning a specific numerical value.\n",
        "\n",
        "f = 2*x**3 + 4*x + 5: This defines the function $f(x)$$f(x)$ symbolically using the variable x.\n",
        "\n",
        "f_prime = sympy.diff(f, x): This calculates the first derivative of the function $f$$f$ with respect to x. The derivative of $2x^3 + 4x + 5$$2x^3 + 4x + 5$ is $6x^2 + 4$$6x^2 + 4$.\n",
        "\n",
        "print(f\"The derivative of the function is: {f_prime}\"): This prints the calculated derivative.\n",
        "\n",
        "critical_points = sympy.solve(f_prime, x): This finds the roots of the first derivative (where $f'(x) = 0$$f'(x) = 0$). These roots are the critical points of the function, which are potential locations of local minima or maxima.\n",
        "\n",
        "print(f\"The critical points are: {critical_points}\"): This prints the critical points found. In this case, the roots of $6x^2 + 4 = 0$$6x^2 + 4 = 0$ are complex numbers ($\\pm i \\sqrt{6}/3$$\\pm i \\sqrt{6}/3$), as there are no real values of $x$$x$ for which $6x^2 + 4$$6x^2 + 4$ equals zero.\n",
        "\n",
        "The remaining comments in the cell explain how to interpret the results:\n",
        "For a cubic function, the derivative is a quadratic. The roots of the derivative are potential local extrema.\n",
        "\n",
        "The derivative $6x^2 + 4$$6x^2 + 4$ is always positive for any real value of $x$$x$ because $x^2$$x^2$ is always non-negative, so $6x^2$$6x^2$ is non-negative, and adding 4 makes it always positive.\n",
        "\n",
        "A positive first derivative means the function is always increasing.\n",
        "\n",
        "Therefore, this function does not have a local minimum or maximum.\n",
        "\n",
        "The function approaches negative infinity as $x$$x$ approaches negative infinity, and approaches positive infinity as $x$$x$ approaches positive infinity. There is no global minimum."
      ],
      "metadata": {
        "id": "4644WBmHB3sS"
      }
    }
  ]
}