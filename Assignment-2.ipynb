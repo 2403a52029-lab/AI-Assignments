{
  "nbformat": 4,
  "nbformat_minor": 0,
  "metadata": {
    "colab": {
      "provenance": [],
      "authorship_tag": "ABX9TyNOfjtPjWyItVgZEi8Tlt+E",
      "include_colab_link": true
    },
    "kernelspec": {
      "name": "python3",
      "display_name": "Python 3"
    },
    "language_info": {
      "name": "python"
    }
  },
  "cells": [
    {
      "cell_type": "markdown",
      "metadata": {
        "id": "view-in-github",
        "colab_type": "text"
      },
      "source": [
        "<a href=\"https://colab.research.google.com/github/2403a52029-lab/AI-Assignments/blob/main/Untitled0.ipynb\" target=\"_parent\"><img src=\"https://colab.research.google.com/assets/colab-badge.svg\" alt=\"Open In Colab\"/></a>"
      ]
    },
    {
      "cell_type": "code",
      "metadata": {
        "colab": {
          "base_uri": "https://localhost:8080/"
        },
        "id": "b2c4a3b9",
        "outputId": "2e5482d9-bdbc-4b31-e27b-79b59715bf97"
      },
      "source": [
        "def filter_negative_numbers(input_list):\n",
        "  \"\"\"Filters out negative numbers from a list.\n",
        "\n",
        "  Args:\n",
        "    input_list: A list of numbers.\n",
        "\n",
        "  Returns:\n",
        "    A new list containing only the non-negative numbers from the input list.\n",
        "  \"\"\"\n",
        "  return [number for number in input_list if number >= 0]\n",
        "\n",
        "# Example usage:\n",
        "my_list = [1, -2, 3, -4, 5, 0, -6]\n",
        "filtered_list = filter_negative_numbers(my_list)\n",
        "print(filtered_list)"
      ],
      "execution_count": null,
      "outputs": [
        {
          "output_type": "stream",
          "name": "stdout",
          "text": [
            "[1, 3, 5, 0]\n"
          ]
        }
      ]
    },
    {
      "cell_type": "code",
      "metadata": {
        "colab": {
          "base_uri": "https://localhost:8080/"
        },
        "id": "2aa44fef",
        "outputId": "ce0b8476-c10f-4ecb-e9f3-b21c6147e3c5"
      },
      "source": [
        "from collections import Counter\n",
        "import re\n",
        "\n",
        "def count_word_frequency(file_path):\n",
        "  \"\"\"Reads a text file and counts the frequency of each word.\n",
        "\n",
        "  Args:\n",
        "    file_path: The path to the text file.\n",
        "\n",
        "  Returns:\n",
        "    A dictionary where keys are words and values are their frequencies.\n",
        "  \"\"\"\n",
        "  try:\n",
        "    with open(file_path, 'r') as file:\n",
        "      text = file.read().lower() # Read and convert to lowercase\n",
        "      words = re.findall(r'\\b\\w+\\b', text) # Find all words using regex\n",
        "      word_counts = Counter(words)\n",
        "      return dict(word_counts)\n",
        "  except FileNotFoundError:\n",
        "    return f\"Error: File not found at {file_path}\"\n",
        "  except Exception as e:\n",
        "    return f\"An error occurred: {e}\"\n",
        "\n",
        "# Example usage:\n",
        "# Assuming you have a file named 'sample.txt' in the same directory\n",
        "# Create a dummy file for demonstration\n",
        "with open('sample.txt', 'w') as f:\n",
        "    f.write(\"This is a sample text file. This file is for testing.\")\n",
        "\n",
        "file_path = 'sample.txt'\n",
        "word_frequencies = count_word_frequency(file_path)\n",
        "print(word_frequencies)"
      ],
      "execution_count": null,
      "outputs": [
        {
          "output_type": "stream",
          "name": "stdout",
          "text": [
            "{'this': 2, 'is': 2, 'a': 1, 'sample': 1, 'text': 1, 'file': 2, 'for': 1, 'testing': 1}\n"
          ]
        }
      ]
    },
    {
      "cell_type": "code",
      "metadata": {
        "colab": {
          "base_uri": "https://localhost:8080/"
        },
        "id": "e7cc9396",
        "outputId": "c7757bb5-7f5d-4789-9956-03a0f27a4562"
      },
      "source": [
        "class Book:\n",
        "  \"\"\"Represents a book with a title and author.\"\"\"\n",
        "\n",
        "  def __init__(self, title, author):\n",
        "    \"\"\"Initializes a Book object.\n",
        "\n",
        "    Args:\n",
        "      title: The title of the book.\n",
        "      author: The author of the book.\n",
        "    \"\"\"\n",
        "    self.title = title\n",
        "    self.author = author\n",
        "\n",
        "  def summary(self):\n",
        "    \"\"\"Prints the details of the book.\"\"\"\n",
        "    print(f\"Title: {self.title}\")\n",
        "    print(f\"Author: {self.author}\")\n",
        "\n",
        "# Example usage:\n",
        "my_book = Book(\"The Hitchhiker's Guide to the Galaxy\", \"Douglas Adams\")\n",
        "my_book.summary()"
      ],
      "execution_count": null,
      "outputs": [
        {
          "output_type": "stream",
          "name": "stdout",
          "text": [
            "Title: The Hitchhiker's Guide to the Galaxy\n",
            "Author: Douglas Adams\n"
          ]
        }
      ]
    },
    {
      "cell_type": "code",
      "metadata": {
        "colab": {
          "base_uri": "https://localhost:8080/"
        },
        "id": "e409ae46",
        "outputId": "c18418df-9e8c-4797-9710-40e8bbaeb598"
      },
      "source": [
        "def is_armstrong_number(number):\n",
        "  \"\"\"Checks if a number is an Armstrong number.\n",
        "\n",
        "  An Armstrong number is a number that is the sum of its own digits each raised to the power of the number of digits.\n",
        "\n",
        "  Args:\n",
        "    number: An integer.\n",
        "\n",
        "  Returns:\n",
        "    True if the number is an Armstrong number, False otherwise.\n",
        "  \"\"\"\n",
        "  # Convert the number to a string to get the number of digits and iterate through digits\n",
        "  num_str = str(number)\n",
        "  num_digits = len(num_str)\n",
        "  sum_of_powers = 0\n",
        "  for digit in num_str:\n",
        "    sum_of_powers += int(digit) ** num_digits\n",
        "\n",
        "  return sum_of_powers == number\n",
        "\n",
        "# Example usage:\n",
        "print(f\"Is 153 an Armstrong number? {is_armstrong_number(153)}\")\n",
        "print(f\"Is 9 an Armstrong number? {is_armstrong_number(9)}\")\n",
        "print(f\"Is 10 an Armstrong number? {is_armstrong_number(10)}\")\n",
        "print(f\"Is 9474 an Armstrong number? {is_armstrong_number(9474)}\")\n",
        "print(f\"Is 9475 an Armstrong number? {is_armstrong_number(9475)}\")"
      ],
      "execution_count": null,
      "outputs": [
        {
          "output_type": "stream",
          "name": "stdout",
          "text": [
            "Is 153 an Armstrong number? True\n",
            "Is 9 an Armstrong number? True\n",
            "Is 10 an Armstrong number? False\n",
            "Is 9474 an Armstrong number? True\n",
            "Is 9475 an Armstrong number? False\n"
          ]
        }
      ]
    },
    {
      "cell_type": "code",
      "metadata": {
        "colab": {
          "base_uri": "https://localhost:8080/"
        },
        "id": "f1960cf5",
        "outputId": "742f6eff-4fab-44b8-f945-5f20928f22f1"
      },
      "source": [
        "# Example list of dictionaries\n",
        "list_of_dicts = [\n",
        "    {'name': 'Alice', 'age': 30, 'city': 'New York'},\n",
        "    {'name': 'Bob', 'age': 25, 'city': 'London'},\n",
        "    {'name': 'Charlie', 'age': 35, 'city': 'Paris'},\n",
        "    {'name': 'David', 'age': 25, 'city': 'Tokyo'}\n",
        "]\n",
        "\n",
        "# Sort the list of dictionaries by the 'age' key\n",
        "sorted_list = sorted(list_of_dicts, key=lambda x: x['age'])\n",
        "\n",
        "# Print the sorted list\n",
        "print(\"Sorted by age:\")\n",
        "print(sorted_list)\n",
        "\n",
        "# You can also sort by other keys, for example, by 'name'\n",
        "sorted_list_by_name = sorted(list_of_dicts, key=lambda x: x['name'])\n",
        "print(\"\\nSorted by name:\")\n",
        "print(sorted_list_by_name)\n",
        "\n",
        "# Or sort by multiple keys (e.g., age then name for tie-breaking)\n",
        "sorted_list_by_age_then_name = sorted(list_of_dicts, key=lambda x: (x['age'], x['name']))\n",
        "print(\"\\nSorted by age then name:\")\n",
        "print(sorted_list_by_age_then_name)"
      ],
      "execution_count": null,
      "outputs": [
        {
          "output_type": "stream",
          "name": "stdout",
          "text": [
            "Sorted by age:\n",
            "[{'name': 'Bob', 'age': 25, 'city': 'London'}, {'name': 'David', 'age': 25, 'city': 'Tokyo'}, {'name': 'Alice', 'age': 30, 'city': 'New York'}, {'name': 'Charlie', 'age': 35, 'city': 'Paris'}]\n",
            "\n",
            "Sorted by name:\n",
            "[{'name': 'Alice', 'age': 30, 'city': 'New York'}, {'name': 'Bob', 'age': 25, 'city': 'London'}, {'name': 'Charlie', 'age': 35, 'city': 'Paris'}, {'name': 'David', 'age': 25, 'city': 'Tokyo'}]\n",
            "\n",
            "Sorted by age then name:\n",
            "[{'name': 'Bob', 'age': 25, 'city': 'London'}, {'name': 'David', 'age': 25, 'city': 'Tokyo'}, {'name': 'Alice', 'age': 30, 'city': 'New York'}, {'name': 'Charlie', 'age': 35, 'city': 'Paris'}]\n"
          ]
        }
      ]
    }
  ]
}
