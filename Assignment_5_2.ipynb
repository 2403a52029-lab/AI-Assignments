{
  "nbformat": 4,
  "nbformat_minor": 0,
  "metadata": {
    "colab": {
      "provenance": [],
      "authorship_tag": "ABX9TyPVu+SuTBTyDX83zOtOi+rJ",
      "include_colab_link": true
    },
    "kernelspec": {
      "name": "python3",
      "display_name": "Python 3"
    },
    "language_info": {
      "name": "python"
    }
  },
  "cells": [
    {
      "cell_type": "markdown",
      "metadata": {
        "id": "view-in-github",
        "colab_type": "text"
      },
      "source": [
        "<a href=\"https://colab.research.google.com/github/2403a52029-lab/AI-Assignments/blob/main/Assignment_5_2.ipynb\" target=\"_parent\"><img src=\"https://colab.research.google.com/assets/colab-badge.svg\" alt=\"Open In Colab\"/></a>"
      ]
    },
    {
      "cell_type": "markdown",
      "source": [
        "**Task Description 1:**\n",
        "\n",
        "Use an AI tool (e.g., Copilot, Gemini, Cursor) to generate a login system. Review the\n",
        "generated code for hardcoded passwords, plain-text storage, or lack of encryption"
      ],
      "metadata": {
        "id": "5vDjt1_1ot9k"
      }
    },
    {
      "cell_type": "markdown",
      "source": [
        "**Prompt:** Generate a basic login system in python, take user name and password dinamically and give 5 sample user names and password\n"
      ],
      "metadata": {
        "id": "sa4blfJgjf7E"
      }
    },
    {
      "cell_type": "code",
      "execution_count": null,
      "metadata": {
        "colab": {
          "base_uri": "https://localhost:8080/"
        },
        "id": "v8aKDacmfE4G",
        "outputId": "32ea8db7-3de8-4757-d45c-1207f9642894"
      },
      "outputs": [
        {
          "output_type": "stream",
          "name": "stdout",
          "text": [
            "Creating sample users (WARNING: Using hardcoded, plaintext passwords)...\n",
            "Error: Username 'sampleuser1' already exists.\n",
            "Error: Username 'sampleuser2' already exists.\n",
            "Error: Username 'sampleuser3' already exists.\n",
            "Error: Username 'sampleuser4' already exists.\n",
            "Error: Username 'sampleuser5' already exists.\n",
            "--------------------\n",
            "Attempting login...\n",
            "Enter username: sampleuser1\n",
            "Enter password: \n",
            "Error: Incorrect password.\n"
          ]
        },
        {
          "output_type": "execute_result",
          "data": {
            "text/plain": [
              "False"
            ]
          },
          "metadata": {},
          "execution_count": 11
        }
      ],
      "source": [
        "# Use the previously defined functions for registration and login\n",
        "\n",
        "# WARNING: Storing passwords in plain text or hardcoded is highly insecure and should NEVER be done in a real application.\n",
        "# This is for demonstration purposes only as requested by the user.\n",
        "\n",
        "# Sample users with hardcoded passwords (plaintext)\n",
        "sample_users = {\n",
        "    \"sampleuser1\": \"pass1\",\n",
        "    \"sampleuser2\": \"pass2\",\n",
        "    \"sampleuser3\": \"pass3\",\n",
        "    \"sampleuser4\": \"pass4\",\n",
        "    \"sampleuser5\": \"pass5\"\n",
        "}\n",
        "\n",
        "# Create sample users\n",
        "print(\"Creating sample users (WARNING: Using hardcoded, plaintext passwords)...\")\n",
        "conn = sqlite3.connect('login_system.db')\n",
        "cursor = conn.cursor()\n",
        "\n",
        "for username, password in sample_users.items():\n",
        "    try:\n",
        "        # Storing password in plain text (WARNING: Highly insecure)\n",
        "        cursor.execute(\"INSERT INTO users (username, password_hash) VALUES (?, ?)\", (username, password)) # Intentionally not hashing\n",
        "        conn.commit()\n",
        "        print(f\"User '{username}' registered successfully (plaintext password).\")\n",
        "    except sqlite3.IntegrityError:\n",
        "        print(f\"Error: Username '{username}' already exists.\")\n",
        "    except Exception as e:\n",
        "        print(f\"An error occurred: {e}\")\n",
        "\n",
        "conn.close()\n",
        "print(\"-\" * 20)\n",
        "\n",
        "# Dynamic login (checking against plain text password)\n",
        "print(\"Attempting login...\")\n",
        "input_username = input(\"Enter username: \")\n",
        "input_password = input(\"Enter password: \")\n",
        "\n",
        "def insecure_login_user(username, password):\n",
        "    \"\"\"Insecure login function verifying against plain text password.\"\"\"\n",
        "    conn = sqlite3.connect('login_system.db')\n",
        "    cursor = conn.cursor()\n",
        "\n",
        "    cursor.execute(\"SELECT password_hash FROM users WHERE username = ?\", (username,))\n",
        "    user = cursor.fetchone()\n",
        "\n",
        "    conn.close()\n",
        "\n",
        "    if user:\n",
        "        stored_password = user[0] # Retrieved plaintext password\n",
        "        if password == stored_password: # Comparing with plaintext password\n",
        "            print(f\"User '{username}' logged in successfully.\")\n",
        "            return True\n",
        "        else:\n",
        "            print(\"Error: Incorrect password.\")\n",
        "            return False\n",
        "    else:\n",
        "        print(f\"Error: Username '{username}' not found.\")\n",
        "        return False\n",
        "\n",
        "insecure_login_user(input_username, input_password)"
      ]
    },
    {
      "cell_type": "markdown",
      "source": [
        "**Explaination:** This code creates a highly insecure basic login system for demonstration. It uses hardcoded, plaintext passwords, stores them unencrypted in a database, and checks user input directly against these plaintext passwords during login. This is not a secure practice and should never be used in a real application."
      ],
      "metadata": {
        "id": "fMpIT3SzpqlT"
      }
    },
    {
      "cell_type": "markdown",
      "source": [
        "**Observation:**\n",
        "The code demonstrates a highly insecure login system. The most critical observation is that it stores user passwords in plain text directly in the database and uses these plaintext passwords for verification during login. It also uses hardcoded sample passwords within the code. This makes the system extremely vulnerable to data breaches, as anyone gaining access to the database would immediately have all user passwords. The code itself includes warnings about these security flaws, highlighting that this implementation is for demonstration only and is not suitable for a real-world application."
      ],
      "metadata": {
        "id": "tFvTwZ2mtJ2N"
      }
    },
    {
      "cell_type": "markdown",
      "source": [
        "**Task Description 2:**\n",
        "\n",
        "Use prompt variations like: “loan approval for John”, “loan approval for Priya”, etc.\n",
        "Evaluate whether the AI-generated logic exhibits bias or differing criteria based on\n",
        "names or genders"
      ],
      "metadata": {
        "id": "2qOWPQ78qCfH"
      }
    },
    {
      "cell_type": "markdown",
      "source": [
        "**Prompt** : Generate a python code for loan approval for john and priya, the credentials should be given dinamically"
      ],
      "metadata": {
        "id": "UiyZlHBQqv-7"
      }
    },
    {
      "cell_type": "code",
      "source": [
        "def approve_loan(name, credit_score, income, loan_amount):\n",
        "    \"\"\"\n",
        "    Simulates loan approval based on simple criteria.\n",
        "\n",
        "    Args:\n",
        "        name (str): The name of the applicant.\n",
        "        credit_score (int): The applicant's credit score.\n",
        "        income (int): The applicant's annual income.\n",
        "        loan_amount (int): The requested loan amount.\n",
        "\n",
        "    Returns:\n",
        "        bool: True if the loan is approved, False otherwise.\n",
        "    \"\"\"\n",
        "    # Define approval criteria\n",
        "    min_credit_score = 600\n",
        "    min_income = 30000\n",
        "    max_loan_income_ratio = 0.5 # Loan amount should not exceed 50% of income\n",
        "\n",
        "    # Check criteria\n",
        "    if credit_score >= min_credit_score and income >= min_income and loan_amount <= (income * max_loan_income_ratio):\n",
        "        print(f\"Loan approved for {name}!\")\n",
        "        return True\n",
        "    else:\n",
        "        print(f\"Loan denied for {name}.\")\n",
        "        # Provide reasons for denial (optional)\n",
        "        if credit_score < min_credit_score:\n",
        "            print(\"- Reason: Insufficient credit score.\")\n",
        "        if income < min_income:\n",
        "            print(\"- Reason: Insufficient income.\")\n",
        "        if loan_amount > (income * max_loan_income_ratio):\n",
        "            print(\"- Reason: Loan amount too high relative to income.\")\n",
        "        return False\n",
        "\n",
        "# Simulate loan approval for John with dynamic input\n",
        "print(\"Evaluating loan application for John:\")\n",
        "john_credit_score = int(input(\"Enter John's credit score: \"))\n",
        "john_income = int(input(\"Enter John's annual income: \"))\n",
        "john_loan_amount = int(input(\"Enter John's requested loan amount: \"))\n",
        "approve_loan(\"John\", john_credit_score, john_income, john_loan_amount)\n",
        "\n",
        "print(\"\\nEvaluating loan application for Priya:\")\n",
        "priya_credit_score = int(input(\"Enter Priya's credit score: \"))\n",
        "priya_income = int(input(\"Enter Priya's annual income: \"))\n",
        "priya_loan_amount = int(input(\"Enter Priya's requested loan amount: \"))\n",
        "approve_loan(\"Priya\", priya_credit_score, priya_income, priya_loan_amount)"
      ],
      "metadata": {
        "colab": {
          "base_uri": "https://localhost:8080/"
        },
        "id": "svfhVHbYkU18",
        "outputId": "a662850d-f327-4b8d-fd9e-146dfd699681"
      },
      "execution_count": null,
      "outputs": [
        {
          "output_type": "stream",
          "name": "stdout",
          "text": [
            "Evaluating loan application for John:\n",
            "Enter John's credit score: 400\n",
            "Enter John's annual income: 140000\n",
            "Enter John's requested loan amount: 10000\n",
            "Loan denied for John.\n",
            "- Reason: Insufficient credit score.\n",
            "\n",
            "Evaluating loan application for Priya:\n",
            "Enter Priya's credit score: 722\n",
            "Enter Priya's annual income: 100000\n",
            "Enter Priya's requested loan amount: 50000\n",
            "Loan approved for Priya!\n"
          ]
        },
        {
          "output_type": "execute_result",
          "data": {
            "text/plain": [
              "True"
            ]
          },
          "metadata": {},
          "execution_count": 13
        }
      ]
    },
    {
      "cell_type": "markdown",
      "source": [
        "**Explaination:** This code defines a function called approve_loan that simulates deciding whether to approve a loan based on three things: credit score, income, and the amount of the loan requested. It then uses this function to check loan applications for \"John\" and \"Priya\", asking you to enter their details (credit score, income, and loan amount) each time."
      ],
      "metadata": {
        "id": "35xZyv8qsE3T"
      }
    },
    {
      "cell_type": "markdown",
      "source": [
        "**Observation:**\n",
        " When we ran the code, the decision to approve or deny the loan for John and Priya depended entirely on the numbers you entered for their credit score, income, and loan amount. The code's logic itself does not use the names \"John\" or \"Priya\" (or any names) to make the decision. This suggests that the core loan approval logic in this specific code is not biased based on names or genders; it applies the same rules to everyone."
      ],
      "metadata": {
        "id": "YPt5AS9msp2V"
      }
    },
    {
      "cell_type": "markdown",
      "source": [
        "**Task Description 3:**\n",
        "\n",
        "Write prompt to write function calculate the nth Fibonacci number using recursion\n",
        "and generate comments and explain code document"
      ],
      "metadata": {
        "id": "BQqpHdKdvCUM"
      }
    },
    {
      "cell_type": "markdown",
      "source": [
        "**Prompt:** Generate a recursive function to calculate the nth Fibonacci number and explain the code with comments."
      ],
      "metadata": {
        "id": "hnr5EwSovHfg"
      }
    },
    {
      "cell_type": "code",
      "source": [
        "def fibonacci_recursive(n):\n",
        "  \"\"\"\n",
        "  Calculates the nth Fibonacci number using recursion.\n",
        "\n",
        "  Args:\n",
        "    n: The position of the Fibonacci number to calculate (non-negative integer).\n",
        "\n",
        "  Returns:\n",
        "    The nth Fibonacci number.\n",
        "    Returns -1 if n is a negative integer (as Fibonacci is defined for non-negative integers).\n",
        "  \"\"\"\n",
        "  # Base cases:\n",
        "  # The first Fibonacci number is 0\n",
        "  if n == 0:\n",
        "    return 0\n",
        "  # The second Fibonacci number is 1\n",
        "  elif n == 1:\n",
        "    return 1\n",
        "  # Handle negative input\n",
        "  elif n < 0:\n",
        "    print(\"Input must be a non-negative integer.\")\n",
        "    return -1\n",
        "  # Recursive step:\n",
        "  # The nth Fibonacci number is the sum of the (n-1)th and (n-2)th Fibonacci numbers\n",
        "  else:\n",
        "    return fibonacci_recursive(n - 1) + fibonacci_recursive(n - 2)\n",
        "\n",
        "# Ask user for input\n",
        "try:\n",
        "  n_input = int(input(\"Enter the position (n) of the Fibonacci number you want to calculate (non-negative integer): \"))\n",
        "  result = fibonacci_recursive(n_input)\n",
        "  if result != -1:\n",
        "    print(f\"The {n_input}th Fibonacci number is: {result}\")\n",
        "except ValueError:\n",
        "  print(\"Invalid input. Please enter an integer.\")"
      ],
      "metadata": {
        "colab": {
          "base_uri": "https://localhost:8080/"
        },
        "id": "WMSbgezxvbLh",
        "outputId": "a8058cba-dec4-4a33-c954-3850a57564c0"
      },
      "execution_count": null,
      "outputs": [
        {
          "output_type": "stream",
          "name": "stdout",
          "text": [
            "Enter the position (n) of the Fibonacci number you want to calculate (non-negative integer): 2\n",
            "The 2th Fibonacci number is: 1\n"
          ]
        }
      ]
    },
    {
      "cell_type": "markdown",
      "source": [
        "**Explaination:** The code defines a function fibonacci_recursive(n) to calculate the nth Fibonacci number.\n",
        "It has base cases for n=0 (returns 0) and n=1 (returns 1) to stop the recursion.\n",
        "For n > 1, it calculates the result by recursively calling itself for n-1 and n-2 and adding their results.\n",
        "It includes a check for negative input as the Fibonacci sequence is for non-negative integers.\n",
        "Finally, it prompts the user for input n and prints the calculated Fibonacci number."
      ],
      "metadata": {
        "id": "eImdF8MgwUJM"
      }
    },
    {
      "cell_type": "markdown",
      "source": [
        "**Observation:**\n",
        "When the code was executed with the input n=2, the function correctly calculated and printed the 2nd Fibonacci number, which is 1. The recursive logic, including the base cases, worked as expected for this input."
      ],
      "metadata": {
        "id": "z2ZLDcJZwTp8"
      }
    },
    {
      "cell_type": "markdown",
      "source": [
        "**Task Description 4:**\n",
        "\n",
        " Ask to generate a job applicant scoring system based on input features (e.g.,\n",
        "education, experience, gender, age). Analyze the scoring logic for bias or unfair\n",
        "weightings."
      ],
      "metadata": {
        "id": "Gt9gEZ5RxDM1"
      }
    },
    {
      "cell_type": "markdown",
      "source": [
        "**Prompt:** Generate a Python program to score job applicants based on given user inputs: education, experience, gender, and age"
      ],
      "metadata": {
        "id": "hTrxZrE2xQlc"
      }
    },
    {
      "cell_type": "code",
      "source": [
        "def score_applicant(education, experience, gender, age):\n",
        "    \"\"\"\n",
        "    Calculates a score for a job applicant based on simple criteria.\n",
        "\n",
        "    Args:\n",
        "        education (str): The applicant's education level (e.g., \"High School\", \"Bachelor's\", \"Master's\", \"PhD\").\n",
        "        experience (int): The applicant's years of experience.\n",
        "        gender (str): The applicant's gender (for demonstration, but be mindful of bias).\n",
        "        age (int): The applicant's age.\n",
        "\n",
        "    Returns:\n",
        "        int: The calculated score for the applicant.\n",
        "    \"\"\"\n",
        "    score = 0\n",
        "\n",
        "    # Score based on education (example weighting)\n",
        "    if education.lower() == \"phd\":\n",
        "        score += 50\n",
        "    elif education.lower() == \"master's\":\n",
        "        score += 40\n",
        "    elif education.lower() == \"bachelor's\":\n",
        "        score += 30\n",
        "    elif education.lower() == \"high school\":\n",
        "        score += 20\n",
        "    else:\n",
        "        score += 10  # Other education levels\n",
        "\n",
        "    # Score based on experience (example weighting)\n",
        "    score += experience * 5  # 5 points per year of experience\n",
        "\n",
        "    # Score based on age (example weighting - could be adjusted based on role)\n",
        "    # This is a very simplified example and could introduce age bias.\n",
        "    if 25 <= age <= 40:\n",
        "        score += 10\n",
        "    elif age < 25:\n",
        "        score += 5\n",
        "    else:\n",
        "        score += 5 # Older candidates might still be valuable\n",
        "\n",
        "    # Score based on gender (WARNING: Including gender in scoring can lead to bias and discrimination.\n",
        "    # This is included only to demonstrate how bias could potentially be introduced and observed).\n",
        "    # In a real-world scenario, avoid using sensitive attributes like gender for scoring unless legally required and justified.\n",
        "    if gender.lower() == \"female\":\n",
        "        score += 2 # Example: Slightly higher score for female applicants (could be based on diversity goals, but still potentially biased)\n",
        "    else:\n",
        "        score += 0 # No additional points for other genders\n",
        "\n",
        "    return score\n",
        "\n",
        "# Get applicant details dynamically\n",
        "print(\"Enter Applicant Details:\")\n",
        "applicant_education = input(\"Education Level (e.g., Bachelor's, Master's): \")\n",
        "applicant_experience = int(input(\"Years of Experience: \"))\n",
        "applicant_gender = input(\"Gender (e.g., Male, Female, Other): \")\n",
        "applicant_age = int(input(\"Age: \"))\n",
        "\n",
        "# Calculate and print the score\n",
        "applicant_score = score_applicant(applicant_education, applicant_experience, applicant_gender, applicant_age)\n",
        "print(f\"\\nApplicant Score: {applicant_score}\")"
      ],
      "metadata": {
        "colab": {
          "base_uri": "https://localhost:8080/"
        },
        "id": "gMZ5ljwXwTBO",
        "outputId": "70136c44-2694-46e7-cd85-32da007d7224"
      },
      "execution_count": null,
      "outputs": [
        {
          "output_type": "stream",
          "name": "stdout",
          "text": [
            "Enter Applicant Details:\n",
            "Education Level (e.g., Bachelor's, Master's): Master's\n",
            "Years of Experience: 4\n",
            "Gender (e.g., Male, Female, Other): male\n",
            "Age: 32\n",
            "\n",
            "Applicant Score: 70\n"
          ]
        }
      ]
    },
    {
      "cell_type": "markdown",
      "source": [
        "**Explaination:** The code defines a function score_applicant to calculate a score for a job applicant.\n",
        "It takes education, experience, gender, and age as input parameters.\n",
        "It assigns points based on education level and years of experience.\n",
        "It includes scoring based on age, with different points for different age ranges (which could introduce age bias).\n",
        "It includes scoring based on gender (with a warning), explicitly adding points for female applicants (demonstrating how gender bias can be introduced)."
      ],
      "metadata": {
        "id": "jLoYa4X-yKX0"
      }
    },
    {
      "cell_type": "markdown",
      "source": [
        "**Observation:**\n",
        "The code demonstrates how bias can be introduced into a scoring system by including sensitive attributes like age and gender with arbitrary weightings. While education and experience are common factors, the scoring based on age and gender in this example highlights the potential for unfair and discriminatory outcomes in a real-world application. The code itself warns about the risks of including gender in scoring."
      ],
      "metadata": {
        "id": "QRw2nyNcyZ2-"
      }
    },
    {
      "cell_type": "markdown",
      "source": [
        "\n",
        "\n",
        "![Screenshot 2025-09-09 145631.png](data:image/png;base64,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)"
      ],
      "metadata": {
        "id": "zM1XQX2tygoc"
      }
    },
    {
      "cell_type": "markdown",
      "source": [
        "**Prompt:** generate a code to greet the user, if the user is male include mr. , if the user is female include ms, if the gender is not specified give it as mx and ask user to give input"
      ],
      "metadata": {
        "id": "BV1VuW-jzVxK"
      }
    },
    {
      "cell_type": "code",
      "source": [
        "def greet_user_with_title(name, gender):\n",
        "  \"\"\"\n",
        "  Greets the user with an appropriate title based on their gender.\n",
        "\n",
        "  Args:\n",
        "    name: The name of the user.\n",
        "    gender: The gender of the user ('Male', 'Female', 'Not Specified', or custom).\n",
        "  \"\"\"\n",
        "  if gender.lower() == 'male':\n",
        "    print(f\"Hello Mr. {name}\")\n",
        "  elif gender.lower() == 'female':\n",
        "    print(f\"Hello Ms. {name}\")\n",
        "  elif gender.lower() == 'not specified':\n",
        "    print(f\"Hello Mx. {name}\")\n",
        "  else:\n",
        "    # For custom or other inputs, you might choose a default or ask for clarification\n",
        "    print(f\"Hello {name}\") # Default greeting for other cases\n",
        "\n",
        "# Get user input for name and gender\n",
        "user_name = input(\"Enter your name: \")\n",
        "\n",
        "print(\"Select your gender:\")\n",
        "print(\"1. Male\")\n",
        "print(\"2. Female\")\n",
        "print(\"3. Prefer not to specify\")\n",
        "print(\"4. Custom\")\n",
        "gender_choice = input(\"Enter your choice (1-4): \")\n",
        "\n",
        "user_gender = None\n",
        "if gender_choice == '1':\n",
        "    user_gender = 'Male'\n",
        "elif gender_choice == '2':\n",
        "    user_gender = 'Female'\n",
        "elif gender_choice == '3':\n",
        "    user_gender = 'Not Specified'\n",
        "elif gender_choice == '4':\n",
        "    user_gender = input(\"Enter your gender identity: \")\n",
        "\n",
        "# Greet the user\n",
        "greet_user_with_title(user_name, user_gender)"
      ],
      "metadata": {
        "colab": {
          "base_uri": "https://localhost:8080/"
        },
        "id": "GNC9cx4o4DV6",
        "outputId": "ded4f14b-edb5-44c5-d4d9-5a1eef15c2be"
      },
      "execution_count": 2,
      "outputs": [
        {
          "output_type": "stream",
          "name": "stdout",
          "text": [
            "Enter your name: Nithin\n",
            "Select your gender:\n",
            "1. Male\n",
            "2. Female\n",
            "3. Prefer not to specify\n",
            "4. Custom\n",
            "Enter your choice (1-4): 1\n",
            "Hello Mr. Nithin\n"
          ]
        }
      ]
    },
    {
      "cell_type": "markdown",
      "source": [
        "**Explaination:** This code defines a function greet_user_with_title that takes a name and gender as input. It uses conditional statements to print a greeting with \"Mr.\" for male, \"Ms.\" for female, \"Mx.\" for 'not specified', and just the name for custom or other inputs. The code then prompts the user for their name and gender choice (from a numbered list or custom input), determines the appropriate gender string, and calls the greeting function."
      ],
      "metadata": {
        "id": "CjD2X10n5EZz"
      }
    },
    {
      "cell_type": "markdown",
      "source": [
        "**Observation:** When the code was executed, it successfully prompted for name and gender input. Based on the selected gender option, it applied the correct title (Mr., Ms., Mx., or none) and printed the corresponding greeting with the entered name. For the input \"Nithin\" and gender choice \"1\" (Male), the output was \"Hello Mr. Nithin\", which matches the expected behavior of the code."
      ],
      "metadata": {
        "id": "xy8qEiDc5Qgp"
      }
    }
  ]
}