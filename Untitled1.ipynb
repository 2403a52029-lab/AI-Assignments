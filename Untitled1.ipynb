{
  "nbformat": 4,
  "nbformat_minor": 0,
  "metadata": {
    "colab": {
      "provenance": [],
      "authorship_tag": "ABX9TyM5SbdjkYmGKOocLQqaFYig",
      "include_colab_link": true
    },
    "kernelspec": {
      "name": "python3",
      "display_name": "Python 3"
    },
    "language_info": {
      "name": "python"
    }
  },
  "cells": [
    {
      "cell_type": "markdown",
      "metadata": {
        "id": "view-in-github",
        "colab_type": "text"
      },
      "source": [
        "<a href=\"https://colab.research.google.com/github/2403a52029-lab/AI-Assignments/blob/main/Untitled1.ipynb\" target=\"_parent\"><img src=\"https://colab.research.google.com/assets/colab-badge.svg\" alt=\"Open In Colab\"/></a>"
      ]
    },
    {
      "cell_type": "markdown",
      "source": [
        "**Task Description 1:** Try 3 different prompts to generate a factorial function"
      ],
      "metadata": {
        "id": "HPAl8M2WjIVp"
      }
    },
    {
      "cell_type": "markdown",
      "source": [
        "**Prompt1:** Write a Python function that calculates the factorial of a given non-negative integer using recursion. Ensure the function includes a base case and handles zero correctly."
      ],
      "metadata": {
        "id": "gKyj8PNqkBMo"
      }
    },
    {
      "cell_type": "code",
      "metadata": {
        "colab": {
          "base_uri": "https://localhost:8080/"
        },
        "id": "0c1c9ee0",
        "outputId": "6b008d16-6aa7-4fee-d329-55109601767a"
      },
      "source": [
        "def recursive_factorial(n):\n",
        "    \"\"\"\n",
        "    Calculates the factorial of a non-negative integer using recursion.\n",
        "\n",
        "    Args:\n",
        "        n: A non-negative integer.\n",
        "\n",
        "    Returns:\n",
        "        The factorial of n.\n",
        "\n",
        "    Raises:\n",
        "        ValueError: If n is a negative integer.\n",
        "    \"\"\"\n",
        "    if n < 0:\n",
        "        raise ValueError(\"Factorial is not defined for negative integers\")\n",
        "    elif n == 0:\n",
        "        return 1  # Base case for 0!\n",
        "    else:\n",
        "        return n * recursive_factorial(n - 1)  # Recursive step\n",
        "\n",
        "# Example usage:\n",
        "num = 5\n",
        "result = recursive_factorial(num)\n",
        "print(f\"The factorial of {num} is {result}\")\n",
        "\n",
        "num_zero = 0\n",
        "result_zero = recursive_factorial(num_zero)\n",
        "print(f\"The factorial of {num_zero} is {result_zero}\")\n",
        "\n",
        "try:\n",
        "    num_negative = -1\n",
        "    recursive_factorial(num_negative)\n",
        "except ValueError as e:\n",
        "    print(f\"Error: {e}\")"
      ],
      "execution_count": null,
      "outputs": [
        {
          "output_type": "stream",
          "name": "stdout",
          "text": [
            "The factorial of 5 is 120\n",
            "The factorial of 0 is 1\n",
            "Error: Factorial is not defined for negative integers\n"
          ]
        }
      ]
    },
    {
      "cell_type": "markdown",
      "source": [
        "**Prompt2:**Generate a Python function that returns the factorial of a given number using Python’s built-in math.factorial() method. Include the necessary import statement."
      ],
      "metadata": {
        "id": "8mU55lKilKnM"
      }
    },
    {
      "cell_type": "code",
      "metadata": {
        "colab": {
          "base_uri": "https://localhost:8080/"
        },
        "id": "7d8e33cb",
        "outputId": "b5f6edb1-c8e9-4e95-e7b2-d8a4920ea159"
      },
      "source": [
        "import math\n",
        "\n",
        "def built_in_factorial(n):\n",
        "  \"\"\"\n",
        "  Calculates the factorial of a non-negative integer using math.factorial().\n",
        "\n",
        "  Args:\n",
        "    n: A non-negative integer.\n",
        "\n",
        "  Returns:\n",
        "    The factorial of n.\n",
        "\n",
        "  Raises:\n",
        "    ValueError: If n is a negative integer.\n",
        "    TypeError: If n is not an integer.\n",
        "  \"\"\"\n",
        "  if n < 0:\n",
        "      raise ValueError(\"Factorial is not defined for negative integers\")\n",
        "  return math.factorial(n)\n",
        "\n",
        "# Example usage:\n",
        "num = 5\n",
        "result = built_in_factorial(num)\n",
        "print(f\"The factorial of {num} is {result}\")\n",
        "\n",
        "num_zero = 0\n",
        "result_zero = built_in_factorial(num_zero)\n",
        "print(f\"The factorial of {num_zero} is {result_zero}\")\n",
        "\n",
        "try:\n",
        "    num_negative = -1\n",
        "    built_in_factorial(num_negative)\n",
        "except ValueError as e:\n",
        "    print(f\"Error: {e}\")\n",
        "\n",
        "try:\n",
        "    num_float = 2.5\n",
        "    built_in_factorial(num_float)\n",
        "except TypeError as e:\n",
        "    print(f\"Error: {e}\")"
      ],
      "execution_count": null,
      "outputs": [
        {
          "output_type": "stream",
          "name": "stdout",
          "text": [
            "The factorial of 5 is 120\n",
            "The factorial of 0 is 1\n",
            "Error: Factorial is not defined for negative integers\n",
            "Error: 'float' object cannot be interpreted as an integer\n"
          ]
        }
      ]
    },
    {
      "cell_type": "markdown",
      "source": [
        "**Prompt3:** Create a Python function to compute the factorial of a number using a for loop. The function should return 1 for an input of 0, and multiply each integer up to the given number for inputs greater than 0."
      ],
      "metadata": {
        "id": "TrriVJQ4ljiA"
      }
    },
    {
      "cell_type": "code",
      "metadata": {
        "colab": {
          "base_uri": "https://localhost:8080/"
        },
        "id": "7a197e80",
        "outputId": "ee266996-e0d2-4b3f-c8bb-a5478aa1b712"
      },
      "source": [
        "def for_loop_factorial(n):\n",
        "    \"\"\"\n",
        "    Calculates the factorial of a non-negative integer using a for loop.\n",
        "\n",
        "    Args:\n",
        "        n: A non-negative integer.\n",
        "\n",
        "    Returns:\n",
        "        The factorial of n.\n",
        "\n",
        "    Raises:\n",
        "        ValueError: If n is a negative integer.\n",
        "    \"\"\"\n",
        "    if n < 0:\n",
        "        raise ValueError(\"Factorial is not defined for negative integers\")\n",
        "    elif n == 0:\n",
        "        return 1\n",
        "    else:\n",
        "        result = 1\n",
        "        for i in range(1, n + 1):\n",
        "            result *= i\n",
        "        return result\n",
        "\n",
        "# Example usage:\n",
        "num = 5\n",
        "result = for_loop_factorial(num)\n",
        "print(f\"The factorial of {num} is {result}\")\n",
        "\n",
        "num_zero = 0\n",
        "result_zero = for_loop_factorial(num_zero)\n",
        "print(f\"The factorial of {num_zero} is {result_zero}\")\n",
        "\n",
        "try:\n",
        "    num_negative = -1\n",
        "    for_loop_factorial(num_negative)\n",
        "except ValueError as e:\n",
        "    print(f\"Error: {e}\")"
      ],
      "execution_count": null,
      "outputs": [
        {
          "output_type": "stream",
          "name": "stdout",
          "text": [
            "The factorial of 5 is 120\n",
            "The factorial of 0 is 1\n",
            "Error: Factorial is not defined for negative integers\n"
          ]
        }
      ]
    },
    {
      "cell_type": "markdown",
      "source": [
        "**Task Description 2:** •\tProvide a clear example input-output prompt to generate a sorting function."
      ],
      "metadata": {
        "id": "e5yP7bLSm2uB"
      }
    },
    {
      "cell_type": "markdown",
      "source": [
        "**Prompt:** Generate a Python function that takes a list of integers as dynamic input and returns the list sorted in ascending order."
      ],
      "metadata": {
        "id": "clqIwclFnCuh"
      }
    },
    {
      "cell_type": "code",
      "metadata": {
        "colab": {
          "base_uri": "https://localhost:8080/"
        },
        "id": "87045b8d",
        "outputId": "cee7703a-938e-4ad4-d8e0-cd3f5d2db0a5"
      },
      "source": [
        "def sort_list_ascending_dynamic():\n",
        "  \"\"\"\n",
        "  Takes a list of integers as dynamic input and returns the list sorted in ascending order.\n",
        "  \"\"\"\n",
        "  input_str = input(\"Enter a list of integers separated by spaces: \")\n",
        "  try:\n",
        "    input_list = [int(x) for x in input_str.split()]\n",
        "    sorted_list = sorted(input_list)\n",
        "    return sorted_list\n",
        "  except ValueError:\n",
        "    print(\"Invalid input. Please enter only integers separated by spaces.\")\n",
        "    return None\n",
        "\n",
        "# Example usage:\n",
        "sorted_result = sort_list_ascending_dynamic()\n",
        "if sorted_result is not None:\n",
        "  print(f\"Sorted list (ascending): {sorted_result}\")"
      ],
      "execution_count": null,
      "outputs": [
        {
          "output_type": "stream",
          "name": "stdout",
          "text": [
            "Enter a list of integers separated by spaces: 5 7 9 2 4 7 89 45 23\n",
            "Sorted list (ascending): [2, 4, 5, 7, 7, 9, 23, 45, 89]\n"
          ]
        }
      ]
    },
    {
      "cell_type": "markdown",
      "source": [
        "**Task Discription 3:** Start with the vague prompt “Generate python code to calculate power bill” and improve it step-by-step."
      ],
      "metadata": {
        "id": "DNnH-TX0oijx"
      }
    },
    {
      "cell_type": "markdown",
      "source": [
        "**Vague prompt:** Generate python code to calculate power bill"
      ],
      "metadata": {
        "id": "XsfyxrKEqR78"
      }
    },
    {
      "cell_type": "code",
      "source": [
        "# This is a placeholder for power bill calculation code.\n",
        "# More details are needed to create a specific and accurate function.\n",
        "\n",
        "def calculate_power_bill(consumption, rate):\n",
        "  \"\"\"\n",
        "  Calculates a basic power bill.\n",
        "\n",
        "  Args:\n",
        "    consumption: The amount of power consumed.\n",
        "    rate: The rate per unit of consumption.\n",
        "\n",
        "  Returns:\n",
        "    The calculated bill amount.\n",
        "  \"\"\"\n",
        "  return consumption * rate\n",
        "\n",
        "# Example usage (requires specific values for consumption and rate):\n",
        "# total_consumption = 100 # in kWh\n",
        "# rate_per_unit = 0.15  # in $/kWh\n",
        "# bill_amount = calculate_power_bill(total_consumption, rate_per_unit)\n",
        "# print(f\"The estimated power bill is: ${bill_amount}\")"
      ],
      "metadata": {
        "id": "9DHLnIHtqmEv"
      },
      "execution_count": null,
      "outputs": []
    },
    {
      "cell_type": "markdown",
      "source": [
        "**Improved Prompt:** Generate a python code to calculate power bill. the units used and cost per unit in rupees is given dynamic input."
      ],
      "metadata": {
        "id": "qeUS9Xq6rCyM"
      }
    },
    {
      "cell_type": "code",
      "source": [
        "def calculate_power_bill_dynamic():\n",
        "  \"\"\"\n",
        "  Calculates a power bill based on dynamic input for units used and cost per unit in rupees.\n",
        "\n",
        "  Returns:\n",
        "    The calculated bill amount in rupees, or None if input is invalid.\n",
        "  \"\"\"\n",
        "  try:\n",
        "    units_used = float(input(\"Enter the number of units used: \"))\n",
        "    cost_per_unit = float(input(\"Enter the cost per unit in rupees: \"))\n",
        "    bill_amount = units_used * cost_per_unit\n",
        "    return bill_amount\n",
        "  except ValueError:\n",
        "    print(\"Invalid input. Please enter numerical values for units and cost.\")\n",
        "    return None\n",
        "\n",
        "# Example usage:\n",
        "power_bill = calculate_power_bill_dynamic()\n",
        "if power_bill is not None:\n",
        "  print(f\"The calculated power bill is: ₹{power_bill:.2f}\")"
      ],
      "metadata": {
        "colab": {
          "base_uri": "https://localhost:8080/"
        },
        "id": "IljqY3C5sOWt",
        "outputId": "59fbb2bd-706f-43ee-efc8-977c63fa2126"
      },
      "execution_count": null,
      "outputs": [
        {
          "output_type": "stream",
          "name": "stdout",
          "text": [
            "Enter the number of units used: 199\n",
            "Enter the cost per unit in rupees: 3\n",
            "The calculated power bill is: ₹597.00\n"
          ]
        }
      ]
    },
    {
      "cell_type": "markdown",
      "source": [
        "**Task Description 4:** Write structured comments to help AI generate two linked functions (e.g., login_user() and register_user()).\n"
      ],
      "metadata": {
        "id": "37k9QH1htPCE"
      }
    },
    {
      "cell_type": "markdown",
      "source": [
        "**Comments:**"
      ],
      "metadata": {
        "id": "wTyFs-QPtZ32"
      }
    },
    {
      "cell_type": "code",
      "source": [
        "# Function: register_user()\n",
        "# Purpose: To allow a new user to register by providing a unique username and password.\n",
        "# Inputs:\n",
        "#   - username (string): the desired username\n",
        "#   - password (string): the desired password\n",
        "# Process:\n",
        "#   - Check if the username already exists in the system (e.g., a dictionary or database).\n",
        "#   - If it does, return a message indicating the username is taken.\n",
        "#   - If it doesn’t, store the username and hashed password in the user database.\n",
        "# Output:\n",
        "#   - Success or failure message\n",
        "\n",
        "# Function: login_user()\n",
        "# Purpose: To authenticate a user trying to log in using a username and password.\n",
        "# Inputs:\n",
        "#   - username (string): the input username\n",
        "#   - password (string): the input password\n",
        "# Process:\n",
        "#   - Check if the username exists in the user database.\n",
        "#   - If it exists, compare the input password with the stored (hashed) password.\n",
        "#   - If the password matches, return a login success message.\n",
        "#   - Otherwise, return an authentication failed message.\n",
        "# Output:\n",
        "#   - Login success or failure message\n"
      ],
      "metadata": {
        "id": "WAb0pJCKuSLk"
      },
      "execution_count": null,
      "outputs": []
    },
    {
      "cell_type": "markdown",
      "source": [
        "**Task Description 5:**\n",
        "\tAnalyzing Prompt Specificity: Improving Temperature Conversion Function with Clear Instructions\n"
      ],
      "metadata": {
        "id": "4JqVZNivuWuc"
      }
    },
    {
      "cell_type": "markdown",
      "source": [
        "**Vague Prompt:** Generate a code which convertes temperature"
      ],
      "metadata": {
        "id": "1ACrVpOquocu"
      }
    },
    {
      "cell_type": "code",
      "source": [
        "def celsius_to_fahrenheit(celsius):\n",
        "  \"\"\"Converts Celsius to Fahrenheit.\"\"\"\n",
        "  return (celsius * 9/5) + 32\n",
        "\n",
        "# Example usage:\n",
        "celsius_temp = 25\n",
        "fahrenheit_temp = celsius_to_fahrenheit(celsius_temp)\n",
        "print(f\"{celsius_temp}°C is equal to {fahrenheit_temp}°F\")"
      ],
      "metadata": {
        "colab": {
          "base_uri": "https://localhost:8080/"
        },
        "id": "RBBbo_y7vbly",
        "outputId": "d16f33b8-4460-4254-bd3c-c5a764626adf"
      },
      "execution_count": null,
      "outputs": [
        {
          "output_type": "stream",
          "name": "stdout",
          "text": [
            "25°C is equal to 77.0°F\n"
          ]
        }
      ]
    },
    {
      "cell_type": "markdown",
      "source": [
        "**Improved Prompt:** Generate a Python function called convert_temperature(value, unit) that takes a Dynamic input float value and a target unit ('C' or 'F'). It should convert between Celsius and Fahrenheit, raise an error for invalid units, and return the result rounded to 2 decimal places. Include comments."
      ],
      "metadata": {
        "id": "N_3zHbrQvr-I"
      }
    },
    {
      "cell_type": "code",
      "source": [
        "def convert_temperature_dynamic():\n",
        "  \"\"\"\n",
        "  Converts a dynamically input temperature value between Celsius and Fahrenheit.\n",
        "\n",
        "  Takes a float value and a target unit ('C' or 'F') as dynamic input.\n",
        "  Converts between Celsius and Fahrenheit, raises an error for invalid units,\n",
        "  and returns the result rounded to 2 decimal places.\n",
        "  \"\"\"\n",
        "  try:\n",
        "    value_str = input(\"Enter the temperature value: \")\n",
        "    value = float(value_str)\n",
        "    unit = input(\"Enter the target unit ('C' for Celsius, 'F' for Fahrenheit): \")\n",
        "\n",
        "    if unit.upper() == 'C':\n",
        "      # Assume input is Fahrenheit, convert to Celsius\n",
        "      converted_value = (value - 32) * 5/9\n",
        "    elif unit.upper() == 'F':\n",
        "      # Assume input is Celsius, convert to Fahrenheit\n",
        "      converted_value = (value * 9/5) + 32\n",
        "    else:\n",
        "      raise ValueError(\"Invalid target unit. Please use 'C' for Celsius or 'F' for Fahrenheit.\")\n",
        "\n",
        "    return round(converted_value, 2)\n",
        "\n",
        "  except ValueError as e:\n",
        "    print(f\"Invalid input: {e}\")\n",
        "    return None\n",
        "\n",
        "# Example usage:\n",
        "converted_temp = convert_temperature_dynamic()\n",
        "if converted_temp is not None:\n",
        "    print(f\"The converted temperature is: {converted_temp}\")"
      ],
      "metadata": {
        "colab": {
          "base_uri": "https://localhost:8080/"
        },
        "id": "12mh37vHwagE",
        "outputId": "71cce1a1-3a64-4070-d172-db64b2c25ff0"
      },
      "execution_count": null,
      "outputs": [
        {
          "output_type": "stream",
          "name": "stdout",
          "text": [
            "Enter the temperature value: 43.2\n",
            "Enter the target unit ('C' for Celsius, 'F' for Fahrenheit): c\n",
            "The converted temperature is: 6.22\n"
          ]
        }
      ]
    }
  ]
}